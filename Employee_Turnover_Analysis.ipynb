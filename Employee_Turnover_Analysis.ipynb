{
 "cells": [
  {
   "cell_type": "markdown",
   "id": "f6c70bd1",
   "metadata": {},
   "source": [
    "# Preparation"
   ]
  },
  {
   "cell_type": "code",
   "execution_count": 1,
   "id": "9c1691f8",
   "metadata": {},
   "outputs": [],
   "source": [
    "# Import Libraries\n",
    "\n",
    "import pandas as pd\n",
    "import numpy as np\n",
    "import matplotlib.pyplot as plt\n",
    "import seaborn as sns\n",
    "%matplotlib inline"
   ]
  },
  {
   "cell_type": "code",
   "execution_count": 2,
   "id": "bf087999",
   "metadata": {},
   "outputs": [],
   "source": [
    "df=pd.read_csv('hr.csv')"
   ]
  },
  {
   "cell_type": "code",
   "execution_count": 3,
   "id": "e803e7ee",
   "metadata": {},
   "outputs": [
    {
     "data": {
      "text/html": [
       "<div>\n",
       "<style scoped>\n",
       "    .dataframe tbody tr th:only-of-type {\n",
       "        vertical-align: middle;\n",
       "    }\n",
       "\n",
       "    .dataframe tbody tr th {\n",
       "        vertical-align: top;\n",
       "    }\n",
       "\n",
       "    .dataframe thead th {\n",
       "        text-align: right;\n",
       "    }\n",
       "</style>\n",
       "<table border=\"1\" class=\"dataframe\">\n",
       "  <thead>\n",
       "    <tr style=\"text-align: right;\">\n",
       "      <th></th>\n",
       "      <th>satisfaction_level</th>\n",
       "      <th>last_evaluation</th>\n",
       "      <th>number_project</th>\n",
       "      <th>average_montly_hours</th>\n",
       "      <th>time_spend_company</th>\n",
       "      <th>Work_accident</th>\n",
       "      <th>left</th>\n",
       "      <th>promotion_last_5years</th>\n",
       "      <th>sales</th>\n",
       "      <th>salary</th>\n",
       "    </tr>\n",
       "  </thead>\n",
       "  <tbody>\n",
       "    <tr>\n",
       "      <th>0</th>\n",
       "      <td>0.38</td>\n",
       "      <td>0.53</td>\n",
       "      <td>2</td>\n",
       "      <td>157</td>\n",
       "      <td>3</td>\n",
       "      <td>0</td>\n",
       "      <td>1</td>\n",
       "      <td>0</td>\n",
       "      <td>sales</td>\n",
       "      <td>low</td>\n",
       "    </tr>\n",
       "    <tr>\n",
       "      <th>1</th>\n",
       "      <td>0.80</td>\n",
       "      <td>0.86</td>\n",
       "      <td>5</td>\n",
       "      <td>262</td>\n",
       "      <td>6</td>\n",
       "      <td>0</td>\n",
       "      <td>1</td>\n",
       "      <td>0</td>\n",
       "      <td>sales</td>\n",
       "      <td>medium</td>\n",
       "    </tr>\n",
       "    <tr>\n",
       "      <th>2</th>\n",
       "      <td>0.11</td>\n",
       "      <td>0.88</td>\n",
       "      <td>7</td>\n",
       "      <td>272</td>\n",
       "      <td>4</td>\n",
       "      <td>0</td>\n",
       "      <td>1</td>\n",
       "      <td>0</td>\n",
       "      <td>sales</td>\n",
       "      <td>medium</td>\n",
       "    </tr>\n",
       "    <tr>\n",
       "      <th>3</th>\n",
       "      <td>0.72</td>\n",
       "      <td>0.87</td>\n",
       "      <td>5</td>\n",
       "      <td>223</td>\n",
       "      <td>5</td>\n",
       "      <td>0</td>\n",
       "      <td>1</td>\n",
       "      <td>0</td>\n",
       "      <td>sales</td>\n",
       "      <td>low</td>\n",
       "    </tr>\n",
       "    <tr>\n",
       "      <th>4</th>\n",
       "      <td>0.37</td>\n",
       "      <td>0.52</td>\n",
       "      <td>2</td>\n",
       "      <td>159</td>\n",
       "      <td>3</td>\n",
       "      <td>0</td>\n",
       "      <td>1</td>\n",
       "      <td>0</td>\n",
       "      <td>sales</td>\n",
       "      <td>low</td>\n",
       "    </tr>\n",
       "  </tbody>\n",
       "</table>\n",
       "</div>"
      ],
      "text/plain": [
       "   satisfaction_level  last_evaluation  number_project  average_montly_hours  \\\n",
       "0                0.38             0.53               2                   157   \n",
       "1                0.80             0.86               5                   262   \n",
       "2                0.11             0.88               7                   272   \n",
       "3                0.72             0.87               5                   223   \n",
       "4                0.37             0.52               2                   159   \n",
       "\n",
       "   time_spend_company  Work_accident  left  promotion_last_5years  sales  \\\n",
       "0                   3              0     1                      0  sales   \n",
       "1                   6              0     1                      0  sales   \n",
       "2                   4              0     1                      0  sales   \n",
       "3                   5              0     1                      0  sales   \n",
       "4                   3              0     1                      0  sales   \n",
       "\n",
       "   salary  \n",
       "0     low  \n",
       "1  medium  \n",
       "2  medium  \n",
       "3     low  \n",
       "4     low  "
      ]
     },
     "execution_count": 3,
     "metadata": {},
     "output_type": "execute_result"
    }
   ],
   "source": [
    "df.head()"
   ]
  },
  {
   "cell_type": "code",
   "execution_count": 5,
   "id": "93388f0f",
   "metadata": {},
   "outputs": [
    {
     "data": {
      "text/html": [
       "<div>\n",
       "<style scoped>\n",
       "    .dataframe tbody tr th:only-of-type {\n",
       "        vertical-align: middle;\n",
       "    }\n",
       "\n",
       "    .dataframe tbody tr th {\n",
       "        vertical-align: top;\n",
       "    }\n",
       "\n",
       "    .dataframe thead th {\n",
       "        text-align: right;\n",
       "    }\n",
       "</style>\n",
       "<table border=\"1\" class=\"dataframe\">\n",
       "  <thead>\n",
       "    <tr style=\"text-align: right;\">\n",
       "      <th></th>\n",
       "      <th>satisfaction_level</th>\n",
       "      <th>last_evaluation</th>\n",
       "      <th>number_project</th>\n",
       "      <th>average_montly_hours</th>\n",
       "      <th>time_spend_company</th>\n",
       "      <th>Work_accident</th>\n",
       "      <th>left</th>\n",
       "      <th>promotion_last_5years</th>\n",
       "      <th>sales</th>\n",
       "      <th>salary</th>\n",
       "    </tr>\n",
       "  </thead>\n",
       "  <tbody>\n",
       "    <tr>\n",
       "      <th>14994</th>\n",
       "      <td>0.40</td>\n",
       "      <td>0.57</td>\n",
       "      <td>2</td>\n",
       "      <td>151</td>\n",
       "      <td>3</td>\n",
       "      <td>0</td>\n",
       "      <td>1</td>\n",
       "      <td>0</td>\n",
       "      <td>support</td>\n",
       "      <td>low</td>\n",
       "    </tr>\n",
       "    <tr>\n",
       "      <th>14995</th>\n",
       "      <td>0.37</td>\n",
       "      <td>0.48</td>\n",
       "      <td>2</td>\n",
       "      <td>160</td>\n",
       "      <td>3</td>\n",
       "      <td>0</td>\n",
       "      <td>1</td>\n",
       "      <td>0</td>\n",
       "      <td>support</td>\n",
       "      <td>low</td>\n",
       "    </tr>\n",
       "    <tr>\n",
       "      <th>14996</th>\n",
       "      <td>0.37</td>\n",
       "      <td>0.53</td>\n",
       "      <td>2</td>\n",
       "      <td>143</td>\n",
       "      <td>3</td>\n",
       "      <td>0</td>\n",
       "      <td>1</td>\n",
       "      <td>0</td>\n",
       "      <td>support</td>\n",
       "      <td>low</td>\n",
       "    </tr>\n",
       "    <tr>\n",
       "      <th>14997</th>\n",
       "      <td>0.11</td>\n",
       "      <td>0.96</td>\n",
       "      <td>6</td>\n",
       "      <td>280</td>\n",
       "      <td>4</td>\n",
       "      <td>0</td>\n",
       "      <td>1</td>\n",
       "      <td>0</td>\n",
       "      <td>support</td>\n",
       "      <td>low</td>\n",
       "    </tr>\n",
       "    <tr>\n",
       "      <th>14998</th>\n",
       "      <td>0.37</td>\n",
       "      <td>0.52</td>\n",
       "      <td>2</td>\n",
       "      <td>158</td>\n",
       "      <td>3</td>\n",
       "      <td>0</td>\n",
       "      <td>1</td>\n",
       "      <td>0</td>\n",
       "      <td>support</td>\n",
       "      <td>low</td>\n",
       "    </tr>\n",
       "  </tbody>\n",
       "</table>\n",
       "</div>"
      ],
      "text/plain": [
       "       satisfaction_level  last_evaluation  number_project  \\\n",
       "14994                0.40             0.57               2   \n",
       "14995                0.37             0.48               2   \n",
       "14996                0.37             0.53               2   \n",
       "14997                0.11             0.96               6   \n",
       "14998                0.37             0.52               2   \n",
       "\n",
       "       average_montly_hours  time_spend_company  Work_accident  left  \\\n",
       "14994                   151                   3              0     1   \n",
       "14995                   160                   3              0     1   \n",
       "14996                   143                   3              0     1   \n",
       "14997                   280                   4              0     1   \n",
       "14998                   158                   3              0     1   \n",
       "\n",
       "       promotion_last_5years    sales salary  \n",
       "14994                      0  support    low  \n",
       "14995                      0  support    low  \n",
       "14996                      0  support    low  \n",
       "14997                      0  support    low  \n",
       "14998                      0  support    low  "
      ]
     },
     "execution_count": 5,
     "metadata": {},
     "output_type": "execute_result"
    }
   ],
   "source": [
    "df.tail()"
   ]
  },
  {
   "cell_type": "code",
   "execution_count": 4,
   "id": "26964a3e",
   "metadata": {},
   "outputs": [
    {
     "name": "stdout",
     "output_type": "stream",
     "text": [
      "<class 'pandas.core.frame.DataFrame'>\n",
      "RangeIndex: 14999 entries, 0 to 14998\n",
      "Data columns (total 10 columns):\n",
      " #   Column                 Non-Null Count  Dtype  \n",
      "---  ------                 --------------  -----  \n",
      " 0   satisfaction_level     14999 non-null  float64\n",
      " 1   last_evaluation        14999 non-null  float64\n",
      " 2   number_project         14999 non-null  int64  \n",
      " 3   average_montly_hours   14999 non-null  int64  \n",
      " 4   time_spend_company     14999 non-null  int64  \n",
      " 5   Work_accident          14999 non-null  int64  \n",
      " 6   left                   14999 non-null  int64  \n",
      " 7   promotion_last_5years  14999 non-null  int64  \n",
      " 8   sales                  14999 non-null  object \n",
      " 9   salary                 14999 non-null  object \n",
      "dtypes: float64(2), int64(6), object(2)\n",
      "memory usage: 1.1+ MB\n"
     ]
    }
   ],
   "source": [
    "df.info()"
   ]
  },
  {
   "cell_type": "code",
   "execution_count": 7,
   "id": "c29c1166",
   "metadata": {},
   "outputs": [
    {
     "data": {
      "text/plain": [
       "(14999, 10)"
      ]
     },
     "execution_count": 7,
     "metadata": {},
     "output_type": "execute_result"
    }
   ],
   "source": [
    "df.shape"
   ]
  },
  {
   "cell_type": "markdown",
   "id": "ad0d5e6c",
   "metadata": {},
   "source": [
    "Just under 15K observations over 10 columns"
   ]
  },
  {
   "cell_type": "code",
   "execution_count": 6,
   "id": "48878adc",
   "metadata": {},
   "outputs": [
    {
     "data": {
      "text/plain": [
       "satisfaction_level       False\n",
       "last_evaluation          False\n",
       "number_project           False\n",
       "average_montly_hours     False\n",
       "time_spend_company       False\n",
       "Work_accident            False\n",
       "left                     False\n",
       "promotion_last_5years    False\n",
       "sales                    False\n",
       "salary                   False\n",
       "dtype: bool"
      ]
     },
     "execution_count": 6,
     "metadata": {},
     "output_type": "execute_result"
    }
   ],
   "source": [
    "# Check for missing data-values\n",
    "df.isnull().any()"
   ]
  },
  {
   "cell_type": "markdown",
   "id": "3548bd46",
   "metadata": {},
   "source": [
    "Arguably, this is a rarity but it is a clean dataset containing no missing values!"
   ]
  },
  {
   "cell_type": "code",
   "execution_count": 8,
   "id": "6c4a3cf1",
   "metadata": {},
   "outputs": [],
   "source": [
    "# Rename column names \n",
    "df = df.rename(columns = {\n",
    "    \n",
    "    'satisfaction_level':'Satisfaction',\n",
    "    'last_evaluation':'Evaluation',\n",
    "    'number_project' : 'ProjectCount',\n",
    "    'average_montly_hours':'AvgMonthlyHours',\n",
    "    'time_spend_company':'Tenure',\n",
    "    'promotion_last_5years':'Promotion',\n",
    "    'sales':'Department',\n",
    "    'salary':'Salary',\n",
    "    'left':'Turnover'\n",
    "    \n",
    "})"
   ]
  },
  {
   "cell_type": "code",
   "execution_count": 9,
   "id": "edecae7c",
   "metadata": {},
   "outputs": [
    {
     "data": {
      "text/html": [
       "<div>\n",
       "<style scoped>\n",
       "    .dataframe tbody tr th:only-of-type {\n",
       "        vertical-align: middle;\n",
       "    }\n",
       "\n",
       "    .dataframe tbody tr th {\n",
       "        vertical-align: top;\n",
       "    }\n",
       "\n",
       "    .dataframe thead th {\n",
       "        text-align: right;\n",
       "    }\n",
       "</style>\n",
       "<table border=\"1\" class=\"dataframe\">\n",
       "  <thead>\n",
       "    <tr style=\"text-align: right;\">\n",
       "      <th></th>\n",
       "      <th>Satisfaction</th>\n",
       "      <th>Evaluation</th>\n",
       "      <th>ProjectCount</th>\n",
       "      <th>AvgMonthlyHours</th>\n",
       "      <th>Tenure</th>\n",
       "      <th>Work_accident</th>\n",
       "      <th>Turnover</th>\n",
       "      <th>Promotion</th>\n",
       "      <th>Department</th>\n",
       "      <th>Salary</th>\n",
       "    </tr>\n",
       "  </thead>\n",
       "  <tbody>\n",
       "    <tr>\n",
       "      <th>0</th>\n",
       "      <td>0.38</td>\n",
       "      <td>0.53</td>\n",
       "      <td>2</td>\n",
       "      <td>157</td>\n",
       "      <td>3</td>\n",
       "      <td>0</td>\n",
       "      <td>1</td>\n",
       "      <td>0</td>\n",
       "      <td>sales</td>\n",
       "      <td>low</td>\n",
       "    </tr>\n",
       "    <tr>\n",
       "      <th>1</th>\n",
       "      <td>0.80</td>\n",
       "      <td>0.86</td>\n",
       "      <td>5</td>\n",
       "      <td>262</td>\n",
       "      <td>6</td>\n",
       "      <td>0</td>\n",
       "      <td>1</td>\n",
       "      <td>0</td>\n",
       "      <td>sales</td>\n",
       "      <td>medium</td>\n",
       "    </tr>\n",
       "    <tr>\n",
       "      <th>2</th>\n",
       "      <td>0.11</td>\n",
       "      <td>0.88</td>\n",
       "      <td>7</td>\n",
       "      <td>272</td>\n",
       "      <td>4</td>\n",
       "      <td>0</td>\n",
       "      <td>1</td>\n",
       "      <td>0</td>\n",
       "      <td>sales</td>\n",
       "      <td>medium</td>\n",
       "    </tr>\n",
       "    <tr>\n",
       "      <th>3</th>\n",
       "      <td>0.72</td>\n",
       "      <td>0.87</td>\n",
       "      <td>5</td>\n",
       "      <td>223</td>\n",
       "      <td>5</td>\n",
       "      <td>0</td>\n",
       "      <td>1</td>\n",
       "      <td>0</td>\n",
       "      <td>sales</td>\n",
       "      <td>low</td>\n",
       "    </tr>\n",
       "    <tr>\n",
       "      <th>4</th>\n",
       "      <td>0.37</td>\n",
       "      <td>0.52</td>\n",
       "      <td>2</td>\n",
       "      <td>159</td>\n",
       "      <td>3</td>\n",
       "      <td>0</td>\n",
       "      <td>1</td>\n",
       "      <td>0</td>\n",
       "      <td>sales</td>\n",
       "      <td>low</td>\n",
       "    </tr>\n",
       "  </tbody>\n",
       "</table>\n",
       "</div>"
      ],
      "text/plain": [
       "   Satisfaction  Evaluation  ProjectCount  AvgMonthlyHours  Tenure  \\\n",
       "0          0.38        0.53             2              157       3   \n",
       "1          0.80        0.86             5              262       6   \n",
       "2          0.11        0.88             7              272       4   \n",
       "3          0.72        0.87             5              223       5   \n",
       "4          0.37        0.52             2              159       3   \n",
       "\n",
       "   Work_accident  Turnover  Promotion Department  Salary  \n",
       "0              0         1          0      sales     low  \n",
       "1              0         1          0      sales  medium  \n",
       "2              0         1          0      sales  medium  \n",
       "3              0         1          0      sales     low  \n",
       "4              0         1          0      sales     low  "
      ]
     },
     "execution_count": 9,
     "metadata": {},
     "output_type": "execute_result"
    }
   ],
   "source": [
    "df.head()"
   ]
  },
  {
   "cell_type": "code",
   "execution_count": 10,
   "id": "a07a569c",
   "metadata": {},
   "outputs": [
    {
     "data": {
      "text/html": [
       "<div>\n",
       "<style scoped>\n",
       "    .dataframe tbody tr th:only-of-type {\n",
       "        vertical-align: middle;\n",
       "    }\n",
       "\n",
       "    .dataframe tbody tr th {\n",
       "        vertical-align: top;\n",
       "    }\n",
       "\n",
       "    .dataframe thead th {\n",
       "        text-align: right;\n",
       "    }\n",
       "</style>\n",
       "<table border=\"1\" class=\"dataframe\">\n",
       "  <thead>\n",
       "    <tr style=\"text-align: right;\">\n",
       "      <th></th>\n",
       "      <th>Satisfaction</th>\n",
       "      <th>Evaluation</th>\n",
       "      <th>ProjectCount</th>\n",
       "      <th>AvgMonthlyHours</th>\n",
       "      <th>Tenure</th>\n",
       "      <th>Work_accident</th>\n",
       "      <th>Turnover</th>\n",
       "      <th>Promotion</th>\n",
       "    </tr>\n",
       "  </thead>\n",
       "  <tbody>\n",
       "    <tr>\n",
       "      <th>count</th>\n",
       "      <td>14999.000000</td>\n",
       "      <td>14999.000000</td>\n",
       "      <td>14999.000000</td>\n",
       "      <td>14999.000000</td>\n",
       "      <td>14999.000000</td>\n",
       "      <td>14999.000000</td>\n",
       "      <td>14999.000000</td>\n",
       "      <td>14999.000000</td>\n",
       "    </tr>\n",
       "    <tr>\n",
       "      <th>mean</th>\n",
       "      <td>0.612834</td>\n",
       "      <td>0.716102</td>\n",
       "      <td>3.803054</td>\n",
       "      <td>201.050337</td>\n",
       "      <td>3.498233</td>\n",
       "      <td>0.144610</td>\n",
       "      <td>0.238083</td>\n",
       "      <td>0.021268</td>\n",
       "    </tr>\n",
       "    <tr>\n",
       "      <th>std</th>\n",
       "      <td>0.248631</td>\n",
       "      <td>0.171169</td>\n",
       "      <td>1.232592</td>\n",
       "      <td>49.943099</td>\n",
       "      <td>1.460136</td>\n",
       "      <td>0.351719</td>\n",
       "      <td>0.425924</td>\n",
       "      <td>0.144281</td>\n",
       "    </tr>\n",
       "    <tr>\n",
       "      <th>min</th>\n",
       "      <td>0.090000</td>\n",
       "      <td>0.360000</td>\n",
       "      <td>2.000000</td>\n",
       "      <td>96.000000</td>\n",
       "      <td>2.000000</td>\n",
       "      <td>0.000000</td>\n",
       "      <td>0.000000</td>\n",
       "      <td>0.000000</td>\n",
       "    </tr>\n",
       "    <tr>\n",
       "      <th>25%</th>\n",
       "      <td>0.440000</td>\n",
       "      <td>0.560000</td>\n",
       "      <td>3.000000</td>\n",
       "      <td>156.000000</td>\n",
       "      <td>3.000000</td>\n",
       "      <td>0.000000</td>\n",
       "      <td>0.000000</td>\n",
       "      <td>0.000000</td>\n",
       "    </tr>\n",
       "    <tr>\n",
       "      <th>50%</th>\n",
       "      <td>0.640000</td>\n",
       "      <td>0.720000</td>\n",
       "      <td>4.000000</td>\n",
       "      <td>200.000000</td>\n",
       "      <td>3.000000</td>\n",
       "      <td>0.000000</td>\n",
       "      <td>0.000000</td>\n",
       "      <td>0.000000</td>\n",
       "    </tr>\n",
       "    <tr>\n",
       "      <th>75%</th>\n",
       "      <td>0.820000</td>\n",
       "      <td>0.870000</td>\n",
       "      <td>5.000000</td>\n",
       "      <td>245.000000</td>\n",
       "      <td>4.000000</td>\n",
       "      <td>0.000000</td>\n",
       "      <td>0.000000</td>\n",
       "      <td>0.000000</td>\n",
       "    </tr>\n",
       "    <tr>\n",
       "      <th>max</th>\n",
       "      <td>1.000000</td>\n",
       "      <td>1.000000</td>\n",
       "      <td>7.000000</td>\n",
       "      <td>310.000000</td>\n",
       "      <td>10.000000</td>\n",
       "      <td>1.000000</td>\n",
       "      <td>1.000000</td>\n",
       "      <td>1.000000</td>\n",
       "    </tr>\n",
       "  </tbody>\n",
       "</table>\n",
       "</div>"
      ],
      "text/plain": [
       "       Satisfaction    Evaluation  ProjectCount  AvgMonthlyHours  \\\n",
       "count  14999.000000  14999.000000  14999.000000     14999.000000   \n",
       "mean       0.612834      0.716102      3.803054       201.050337   \n",
       "std        0.248631      0.171169      1.232592        49.943099   \n",
       "min        0.090000      0.360000      2.000000        96.000000   \n",
       "25%        0.440000      0.560000      3.000000       156.000000   \n",
       "50%        0.640000      0.720000      4.000000       200.000000   \n",
       "75%        0.820000      0.870000      5.000000       245.000000   \n",
       "max        1.000000      1.000000      7.000000       310.000000   \n",
       "\n",
       "             Tenure  Work_accident      Turnover     Promotion  \n",
       "count  14999.000000   14999.000000  14999.000000  14999.000000  \n",
       "mean       3.498233       0.144610      0.238083      0.021268  \n",
       "std        1.460136       0.351719      0.425924      0.144281  \n",
       "min        2.000000       0.000000      0.000000      0.000000  \n",
       "25%        3.000000       0.000000      0.000000      0.000000  \n",
       "50%        3.000000       0.000000      0.000000      0.000000  \n",
       "75%        4.000000       0.000000      0.000000      0.000000  \n",
       "max       10.000000       1.000000      1.000000      1.000000  "
      ]
     },
     "execution_count": 10,
     "metadata": {},
     "output_type": "execute_result"
    }
   ],
   "source": [
    "# Breakdown of Summary Statistics\n",
    "\n",
    "df.describe()"
   ]
  },
  {
   "cell_type": "markdown",
   "id": "df76717a",
   "metadata": {},
   "source": [
    "# Exploration"
   ]
  },
  {
   "cell_type": "markdown",
   "id": "9bf4188b",
   "metadata": {},
   "source": [
    "# Context\n",
    "\n",
    "This dataset contains - \n",
    "\n",
    "1. Roughly 15K employee observations of 10 parameters; \n",
    "2. Turnover rate near 24% (23.8%, in America, around 22% is considered average); \n",
    "3. Mean employee satisfaction if 0.612"
   ]
  },
  {
   "cell_type": "code",
   "execution_count": 11,
   "id": "f9757c96",
   "metadata": {},
   "outputs": [
    {
     "data": {
      "text/plain": [
       "Satisfaction       float64\n",
       "Evaluation         float64\n",
       "ProjectCount         int64\n",
       "AvgMonthlyHours      int64\n",
       "Tenure               int64\n",
       "Work_accident        int64\n",
       "Turnover             int64\n",
       "Promotion            int64\n",
       "Department          object\n",
       "Salary              object\n",
       "dtype: object"
      ]
     },
     "execution_count": 11,
     "metadata": {},
     "output_type": "execute_result"
    }
   ],
   "source": [
    "# Check columns for data-type(s)\n",
    "\n",
    "df.dtypes"
   ]
  },
  {
   "cell_type": "code",
   "execution_count": 12,
   "id": "fda72c62",
   "metadata": {},
   "outputs": [
    {
     "data": {
      "text/plain": [
       "0    0.761917\n",
       "1    0.238083\n",
       "Name: Turnover, dtype: float64"
      ]
     },
     "execution_count": 12,
     "metadata": {},
     "output_type": "execute_result"
    }
   ],
   "source": [
    "# Confirm turn-over rate\n",
    "\n",
    "turnover_rate = df.Turnover.value_counts(normalize=True)\n",
    "turnover_rate\n",
    "\n",
    "# 76% remained, 24% attrition"
   ]
  },
  {
   "cell_type": "code",
   "execution_count": 13,
   "id": "aa39a7a9",
   "metadata": {},
   "outputs": [
    {
     "data": {
      "text/html": [
       "<div>\n",
       "<style scoped>\n",
       "    .dataframe tbody tr th:only-of-type {\n",
       "        vertical-align: middle;\n",
       "    }\n",
       "\n",
       "    .dataframe tbody tr th {\n",
       "        vertical-align: top;\n",
       "    }\n",
       "\n",
       "    .dataframe thead th {\n",
       "        text-align: right;\n",
       "    }\n",
       "</style>\n",
       "<table border=\"1\" class=\"dataframe\">\n",
       "  <thead>\n",
       "    <tr style=\"text-align: right;\">\n",
       "      <th></th>\n",
       "      <th>Satisfaction</th>\n",
       "      <th>Evaluation</th>\n",
       "      <th>ProjectCount</th>\n",
       "      <th>AvgMonthlyHours</th>\n",
       "      <th>Tenure</th>\n",
       "      <th>Work_accident</th>\n",
       "      <th>Promotion</th>\n",
       "    </tr>\n",
       "    <tr>\n",
       "      <th>Turnover</th>\n",
       "      <th></th>\n",
       "      <th></th>\n",
       "      <th></th>\n",
       "      <th></th>\n",
       "      <th></th>\n",
       "      <th></th>\n",
       "      <th></th>\n",
       "    </tr>\n",
       "  </thead>\n",
       "  <tbody>\n",
       "    <tr>\n",
       "      <th>0</th>\n",
       "      <td>0.666810</td>\n",
       "      <td>0.715473</td>\n",
       "      <td>3.786664</td>\n",
       "      <td>199.060203</td>\n",
       "      <td>3.380032</td>\n",
       "      <td>0.175009</td>\n",
       "      <td>0.026251</td>\n",
       "    </tr>\n",
       "    <tr>\n",
       "      <th>1</th>\n",
       "      <td>0.440098</td>\n",
       "      <td>0.718113</td>\n",
       "      <td>3.855503</td>\n",
       "      <td>207.419210</td>\n",
       "      <td>3.876505</td>\n",
       "      <td>0.047326</td>\n",
       "      <td>0.005321</td>\n",
       "    </tr>\n",
       "  </tbody>\n",
       "</table>\n",
       "</div>"
      ],
      "text/plain": [
       "          Satisfaction  Evaluation  ProjectCount  AvgMonthlyHours    Tenure  \\\n",
       "Turnover                                                                      \n",
       "0             0.666810    0.715473      3.786664       199.060203  3.380032   \n",
       "1             0.440098    0.718113      3.855503       207.419210  3.876505   \n",
       "\n",
       "          Work_accident  Promotion  \n",
       "Turnover                            \n",
       "0              0.175009   0.026251  \n",
       "1              0.047326   0.005321  "
      ]
     },
     "execution_count": 13,
     "metadata": {},
     "output_type": "execute_result"
    }
   ],
   "source": [
    "turnover_summary = df.groupby('Turnover')\n",
    "turnover_summary.mean()"
   ]
  },
  {
   "cell_type": "markdown",
   "id": "efa13c81",
   "metadata": {},
   "source": [
    "# Correlation(s)"
   ]
  },
  {
   "cell_type": "code",
   "execution_count": 14,
   "id": "13ae91ce",
   "metadata": {},
   "outputs": [
    {
     "data": {
      "text/html": [
       "<div>\n",
       "<style scoped>\n",
       "    .dataframe tbody tr th:only-of-type {\n",
       "        vertical-align: middle;\n",
       "    }\n",
       "\n",
       "    .dataframe tbody tr th {\n",
       "        vertical-align: top;\n",
       "    }\n",
       "\n",
       "    .dataframe thead th {\n",
       "        text-align: right;\n",
       "    }\n",
       "</style>\n",
       "<table border=\"1\" class=\"dataframe\">\n",
       "  <thead>\n",
       "    <tr style=\"text-align: right;\">\n",
       "      <th></th>\n",
       "      <th>Satisfaction</th>\n",
       "      <th>Evaluation</th>\n",
       "      <th>ProjectCount</th>\n",
       "      <th>AvgMonthlyHours</th>\n",
       "      <th>Tenure</th>\n",
       "      <th>Work_accident</th>\n",
       "      <th>Turnover</th>\n",
       "      <th>Promotion</th>\n",
       "    </tr>\n",
       "  </thead>\n",
       "  <tbody>\n",
       "    <tr>\n",
       "      <th>Satisfaction</th>\n",
       "      <td>1.000000</td>\n",
       "      <td>0.105021</td>\n",
       "      <td>-0.142970</td>\n",
       "      <td>-0.020048</td>\n",
       "      <td>-0.100866</td>\n",
       "      <td>0.058697</td>\n",
       "      <td>-0.388375</td>\n",
       "      <td>0.025605</td>\n",
       "    </tr>\n",
       "    <tr>\n",
       "      <th>Evaluation</th>\n",
       "      <td>0.105021</td>\n",
       "      <td>1.000000</td>\n",
       "      <td>0.349333</td>\n",
       "      <td>0.339742</td>\n",
       "      <td>0.131591</td>\n",
       "      <td>-0.007104</td>\n",
       "      <td>0.006567</td>\n",
       "      <td>-0.008684</td>\n",
       "    </tr>\n",
       "    <tr>\n",
       "      <th>ProjectCount</th>\n",
       "      <td>-0.142970</td>\n",
       "      <td>0.349333</td>\n",
       "      <td>1.000000</td>\n",
       "      <td>0.417211</td>\n",
       "      <td>0.196786</td>\n",
       "      <td>-0.004741</td>\n",
       "      <td>0.023787</td>\n",
       "      <td>-0.006064</td>\n",
       "    </tr>\n",
       "    <tr>\n",
       "      <th>AvgMonthlyHours</th>\n",
       "      <td>-0.020048</td>\n",
       "      <td>0.339742</td>\n",
       "      <td>0.417211</td>\n",
       "      <td>1.000000</td>\n",
       "      <td>0.127755</td>\n",
       "      <td>-0.010143</td>\n",
       "      <td>0.071287</td>\n",
       "      <td>-0.003544</td>\n",
       "    </tr>\n",
       "    <tr>\n",
       "      <th>Tenure</th>\n",
       "      <td>-0.100866</td>\n",
       "      <td>0.131591</td>\n",
       "      <td>0.196786</td>\n",
       "      <td>0.127755</td>\n",
       "      <td>1.000000</td>\n",
       "      <td>0.002120</td>\n",
       "      <td>0.144822</td>\n",
       "      <td>0.067433</td>\n",
       "    </tr>\n",
       "    <tr>\n",
       "      <th>Work_accident</th>\n",
       "      <td>0.058697</td>\n",
       "      <td>-0.007104</td>\n",
       "      <td>-0.004741</td>\n",
       "      <td>-0.010143</td>\n",
       "      <td>0.002120</td>\n",
       "      <td>1.000000</td>\n",
       "      <td>-0.154622</td>\n",
       "      <td>0.039245</td>\n",
       "    </tr>\n",
       "    <tr>\n",
       "      <th>Turnover</th>\n",
       "      <td>-0.388375</td>\n",
       "      <td>0.006567</td>\n",
       "      <td>0.023787</td>\n",
       "      <td>0.071287</td>\n",
       "      <td>0.144822</td>\n",
       "      <td>-0.154622</td>\n",
       "      <td>1.000000</td>\n",
       "      <td>-0.061788</td>\n",
       "    </tr>\n",
       "    <tr>\n",
       "      <th>Promotion</th>\n",
       "      <td>0.025605</td>\n",
       "      <td>-0.008684</td>\n",
       "      <td>-0.006064</td>\n",
       "      <td>-0.003544</td>\n",
       "      <td>0.067433</td>\n",
       "      <td>0.039245</td>\n",
       "      <td>-0.061788</td>\n",
       "      <td>1.000000</td>\n",
       "    </tr>\n",
       "  </tbody>\n",
       "</table>\n",
       "</div>"
      ],
      "text/plain": [
       "                 Satisfaction  Evaluation  ProjectCount  AvgMonthlyHours  \\\n",
       "Satisfaction         1.000000    0.105021     -0.142970        -0.020048   \n",
       "Evaluation           0.105021    1.000000      0.349333         0.339742   \n",
       "ProjectCount        -0.142970    0.349333      1.000000         0.417211   \n",
       "AvgMonthlyHours     -0.020048    0.339742      0.417211         1.000000   \n",
       "Tenure              -0.100866    0.131591      0.196786         0.127755   \n",
       "Work_accident        0.058697   -0.007104     -0.004741        -0.010143   \n",
       "Turnover            -0.388375    0.006567      0.023787         0.071287   \n",
       "Promotion            0.025605   -0.008684     -0.006064        -0.003544   \n",
       "\n",
       "                   Tenure  Work_accident  Turnover  Promotion  \n",
       "Satisfaction    -0.100866       0.058697 -0.388375   0.025605  \n",
       "Evaluation       0.131591      -0.007104  0.006567  -0.008684  \n",
       "ProjectCount     0.196786      -0.004741  0.023787  -0.006064  \n",
       "AvgMonthlyHours  0.127755      -0.010143  0.071287  -0.003544  \n",
       "Tenure           1.000000       0.002120  0.144822   0.067433  \n",
       "Work_accident    0.002120       1.000000 -0.154622   0.039245  \n",
       "Turnover         0.144822      -0.154622  1.000000  -0.061788  \n",
       "Promotion        0.067433       0.039245 -0.061788   1.000000  "
      ]
     },
     "execution_count": 14,
     "metadata": {},
     "output_type": "execute_result"
    }
   ],
   "source": [
    "corr = df.corr()\n",
    "corr"
   ]
  },
  {
   "cell_type": "code",
   "execution_count": 15,
   "id": "84897dfc",
   "metadata": {},
   "outputs": [
    {
     "data": {
      "text/plain": [
       "Text(0.5, 1.0, 'Heatmap of Correlation Matrix')"
      ]
     },
     "execution_count": 15,
     "metadata": {},
     "output_type": "execute_result"
    },
    {
     "data": {
      "image/png": "[encoded data removed]",
      "text/plain": [
       "<Figure size 432x288 with 2 Axes>"
      ]
     },
     "metadata": {
      "needs_background": "light"
     },
     "output_type": "display_data"
    }
   ],
   "source": [
    "# Heatmap\n",
    "\n",
    "sns.heatmap(corr)\n",
    "plt.title('Heatmap of Correlation Matrix')"
   ]
  },
  {
   "cell_type": "markdown",
   "id": "4e06fdcb",
   "metadata": {},
   "source": [
    "# Positive correlations\n",
    "\n",
    "ProjectCount and Evaluation : 0.349333\n",
    "AvgMonthlyHours and Evaluation : 0.339742  \n",
    "ProjectCount and AvgMonthlyHours: 0.417211\t\n",
    "\n",
    "# Negative correlations\n",
    "\n",
    "Satisfaction and Turnover : -0.388375\n",
    "\n",
    "# Observations\n",
    "\n",
    "There is a positive correlation within projectCount, averageMonthlyHours, and evaluation. \n",
    "This could indicate staff who put in more time and worked on more projects received \n",
    "higher evaluations, i.e., the halo effect of being percieved as a 'good' and/or \n",
    "dedicated employee. \n",
    "\n",
    "Regarding negative(-) relationships, employee turnover and satisfaction are highly \n",
    "correlated. \n",
    "This could indicate an increased probability staff resign when less satisfied."
   ]
  },
  {
   "cell_type": "markdown",
   "id": "bb85ba5f",
   "metadata": {},
   "source": [
    "# Statistical Test\n",
    "\n",
    "One Sample T-Test\n",
    "\n",
    "Hypothesis Testing: Check for a significant difference in the mean of satisfaction level between staff who resigned and the overall employee numbers.\n",
    "\n",
    "Null Hypothesis: No difference in satisfaction level between employees who left and the overall employee numbers.\n",
    "\n",
    "Alternate Hypothesis: There is a difference in satisfaction level between staff who departed and the overall employee numbers."
   ]
  },
  {
   "cell_type": "code",
   "execution_count": 18,
   "id": "349b4dd9",
   "metadata": {},
   "outputs": [
    {
     "name": "stdout",
     "output_type": "stream",
     "text": [
      "The mean for the employee (total) numbers is: 0.6128335222348166\n",
      "The mean for the employees who is: 0.44009801176140917\n"
     ]
    }
   ],
   "source": [
    "# Compare mean of employee turnover statisfaction and mean of overall employee satisfaction\n",
    "emp_population_satisfaction = df['Satisfaction'].mean()\n",
    "emp_turnover_satisfaction = df[df['Turnover']==1]['Satisfaction'].mean()\n",
    "\n",
    "print( 'The mean for the employee (total) numbers is: ' + str(emp_population_satisfaction) )\n",
    "print( 'The mean for the employees who is: ' + str(emp_turnover_satisfaction) )"
   ]
  },
  {
   "cell_type": "code",
   "execution_count": 19,
   "id": "f1c45db6",
   "metadata": {},
   "outputs": [
    {
     "data": {
      "text/plain": [
       "Ttest_1sampResult(statistic=-39.10948894348446, pvalue=9.012781195378076e-279)"
      ]
     },
     "execution_count": 19,
     "metadata": {},
     "output_type": "execute_result"
    }
   ],
   "source": [
    "# T-Test\n",
    "\n",
    "import scipy.stats as stats\n",
    "\n",
    "stats.ttest_1samp(a = df[df['Turnover']==1]['Satisfaction'], # Sample of employee satisfaction who resigned\n",
    "                  popmean = emp_population_satisfaction)  # The Mean for employee (total) satisfaction"
   ]
  },
  {
   "cell_type": "code",
   "execution_count": 20,
   "id": "2e6b2843",
   "metadata": {},
   "outputs": [
    {
     "name": "stdout",
     "output_type": "stream",
     "text": [
      "The t-distribution left quartile range is: -1.9606285215955626\n",
      "The t-distribution right quartile range is: 1.9606285215955621\n"
     ]
    }
   ],
   "source": [
    "degree_freedom = len(df[df['Turnover']==1])\n",
    "\n",
    "LQ = stats.t.ppf(0.025,degree_freedom)  # For the Left Quartile\n",
    "\n",
    "RQ = stats.t.ppf(0.975,degree_freedom)  # For the Right Quartile\n",
    "\n",
    "print ('The t-distribution left quartile range is: ' + str(LQ))\n",
    "print ('The t-distribution right quartile range is: ' + str(RQ))"
   ]
  },
  {
   "cell_type": "markdown",
   "id": "9bcc634f",
   "metadata": {},
   "source": [
    "# Result(s)\n",
    "\n",
    "T-Test, the test statistic within the rejection region; conclude the sample data provides enough evidence \n",
    "to support an Alternative Hypothesis.\n",
    "\n",
    "Additionally, given the low p-value at less than 0.05; the Null Hypothesis can also be rejected."
   ]
  },
  {
   "cell_type": "markdown",
   "id": "c4f236a2",
   "metadata": {},
   "source": [
    "# Plots"
   ]
  },
  {
   "cell_type": "code",
   "execution_count": 22,
   "id": "dac0e209",
   "metadata": {},
   "outputs": [
    {
     "data": {
      "text/plain": [
       "Index(['Satisfaction', 'Evaluation', 'ProjectCount', 'AvgMonthlyHours',\n",
       "       'Tenure', 'Work_accident', 'Turnover', 'Promotion', 'Department',\n",
       "       'Salary'],\n",
       "      dtype='object')"
      ]
     },
     "execution_count": 22,
     "metadata": {},
     "output_type": "execute_result"
    }
   ],
   "source": [
    "# Check data-frame columns\n",
    "df.columns"
   ]
  },
  {
   "cell_type": "code",
   "execution_count": 23,
   "id": "66c82f19",
   "metadata": {},
   "outputs": [
    {
     "name": "stderr",
     "output_type": "stream",
     "text": [
      "/Users/rajeski/opt/anaconda3/lib/python3.8/site-packages/seaborn/distributions.py:2557: FutureWarning: `distplot` is a deprecated function and will be removed in a future version. Please adapt your code to use either `displot` (a figure-level function with similar flexibility) or `histplot` (an axes-level function for histograms).\n",
      "  warnings.warn(msg, FutureWarning)\n"
     ]
    },
    {
     "data": {
      "text/plain": [
       "Text(0.5, 1.0, 'Distribution of AvgMonthlyHour for Employees')"
      ]
     },
     "execution_count": 23,
     "metadata": {},
     "output_type": "execute_result"
    },
    {
     "data": {
      "image/png": "[encoded data removed]",
      "text/plain": [
       "<Figure size 432x288 with 1 Axes>"
      ]
     },
     "metadata": {
      "needs_background": "light"
     },
     "output_type": "display_data"
    }
   ],
   "source": [
    "sns.distplot(df.AvgMonthlyHours,color='g').set_title('Distribution of AvgMonthlyHour for Employees')"
   ]
  },
  {
   "cell_type": "code",
   "execution_count": 24,
   "id": "fdf2d8c8",
   "metadata": {},
   "outputs": [
    {
     "name": "stderr",
     "output_type": "stream",
     "text": [
      "/Users/rajeski/opt/anaconda3/lib/python3.8/site-packages/seaborn/distributions.py:2557: FutureWarning: `distplot` is a deprecated function and will be removed in a future version. Please adapt your code to use either `displot` (a figure-level function with similar flexibility) or `histplot` (an axes-level function for histograms).\n",
      "  warnings.warn(msg, FutureWarning)\n"
     ]
    },
    {
     "data": {
      "text/plain": [
       "Text(0.5, 1.0, 'Overall Employee Satisfaction Distribution')"
      ]
     },
     "execution_count": 24,
     "metadata": {},
     "output_type": "execute_result"
    },
    {
     "data": {
      "image/png": "[encoded data removed]",
      "text/plain": [
       "<Figure size 432x288 with 1 Axes>"
      ]
     },
     "metadata": {
      "needs_background": "light"
     },
     "output_type": "display_data"
    }
   ],
   "source": [
    "sns.distplot(df.Satisfaction,color ='r').set_title('Overall Employee Satisfaction Distribution')"
   ]
  },
  {
   "cell_type": "code",
   "execution_count": 25,
   "id": "78cadf63",
   "metadata": {},
   "outputs": [
    {
     "name": "stderr",
     "output_type": "stream",
     "text": [
      "/Users/rajeski/opt/anaconda3/lib/python3.8/site-packages/seaborn/distributions.py:2557: FutureWarning: `distplot` is a deprecated function and will be removed in a future version. Please adapt your code to use either `displot` (a figure-level function with similar flexibility) or `histplot` (an axes-level function for histograms).\n",
      "  warnings.warn(msg, FutureWarning)\n"
     ]
    },
    {
     "data": {
      "text/plain": [
       "Text(0.5, 1.0, 'Distribution of Employee Projects')"
      ]
     },
     "execution_count": 25,
     "metadata": {},
     "output_type": "execute_result"
    },
    {
     "data": {
      "image/png": "[encoded data removed]",
      "text/plain": [
       "<Figure size 432x288 with 1 Axes>"
      ]
     },
     "metadata": {
      "needs_background": "light"
     },
     "output_type": "display_data"
    }
   ],
   "source": [
    "sns.distplot(df.ProjectCount).set_title('Distribution of Employee Projects')"
   ]
  },
  {
   "cell_type": "code",
   "execution_count": 26,
   "id": "8a94fe0d",
   "metadata": {},
   "outputs": [
    {
     "name": "stderr",
     "output_type": "stream",
     "text": [
      "/Users/rajeski/opt/anaconda3/lib/python3.8/site-packages/seaborn/_decorators.py:36: FutureWarning: Pass the following variable as a keyword arg: x. From version 0.12, the only valid positional argument will be `data`, and passing other arguments without an explicit keyword will result in an error or misinterpretation.\n",
      "  warnings.warn(\n"
     ]
    },
    {
     "data": {
      "text/plain": [
       "<AxesSubplot:xlabel='ProjectCount', ylabel='count'>"
      ]
     },
     "execution_count": 26,
     "metadata": {},
     "output_type": "execute_result"
    },
    {
     "data": {
      "image/png": "[encoded data removed]",
      "text/plain": [
       "<Figure size 432x288 with 1 Axes>"
      ]
     },
     "metadata": {
      "needs_background": "light"
     },
     "output_type": "display_data"
    }
   ],
   "source": [
    "sns.countplot(df.ProjectCount)"
   ]
  },
  {
   "cell_type": "code",
   "execution_count": 27,
   "id": "de0a9a3e",
   "metadata": {},
   "outputs": [
    {
     "name": "stdout",
     "output_type": "stream",
     "text": [
      "<class 'pandas.core.frame.DataFrame'>\n",
      "RangeIndex: 14999 entries, 0 to 14998\n",
      "Data columns (total 10 columns):\n",
      " #   Column           Non-Null Count  Dtype  \n",
      "---  ------           --------------  -----  \n",
      " 0   Satisfaction     14999 non-null  float64\n",
      " 1   Evaluation       14999 non-null  float64\n",
      " 2   ProjectCount     14999 non-null  int64  \n",
      " 3   AvgMonthlyHours  14999 non-null  int64  \n",
      " 4   Tenure           14999 non-null  int64  \n",
      " 5   Work_accident    14999 non-null  int64  \n",
      " 6   Turnover         14999 non-null  int64  \n",
      " 7   Promotion        14999 non-null  int64  \n",
      " 8   Department       14999 non-null  object \n",
      " 9   Salary           14999 non-null  object \n",
      "dtypes: float64(2), int64(6), object(2)\n",
      "memory usage: 1.1+ MB\n"
     ]
    }
   ],
   "source": [
    "df.info()"
   ]
  },
  {
   "cell_type": "code",
   "execution_count": 28,
   "id": "8dbf6a00",
   "metadata": {},
   "outputs": [
    {
     "name": "stderr",
     "output_type": "stream",
     "text": [
      "/Users/rajeski/opt/anaconda3/lib/python3.8/site-packages/seaborn/_decorators.py:36: FutureWarning: Pass the following variable as a keyword arg: x. From version 0.12, the only valid positional argument will be `data`, and passing other arguments without an explicit keyword will result in an error or misinterpretation.\n",
      "  warnings.warn(\n"
     ]
    },
    {
     "data": {
      "text/plain": [
       "Text(0.5, 1.0, 'Company Employee Tenure')"
      ]
     },
     "execution_count": 28,
     "metadata": {},
     "output_type": "execute_result"
    },
    {
     "data": {
      "image/png": "[encoded data removed]",
      "text/plain": [
       "<Figure size 432x288 with 1 Axes>"
      ]
     },
     "metadata": {
      "needs_background": "light"
     },
     "output_type": "display_data"
    }
   ],
   "source": [
    "sns.countplot(df.Tenure).set_title('Company Employee Tenure')"
   ]
  },
  {
   "cell_type": "code",
   "execution_count": 29,
   "id": "cb2df3ec",
   "metadata": {},
   "outputs": [
    {
     "name": "stderr",
     "output_type": "stream",
     "text": [
      "/Users/rajeski/opt/anaconda3/lib/python3.8/site-packages/seaborn/_decorators.py:36: FutureWarning: Pass the following variable as a keyword arg: x. From version 0.12, the only valid positional argument will be `data`, and passing other arguments without an explicit keyword will result in an error or misinterpretation.\n",
      "  warnings.warn(\n"
     ]
    },
    {
     "data": {
      "text/plain": [
       "<AxesSubplot:xlabel='Work_accident', ylabel='count'>"
      ]
     },
     "execution_count": 29,
     "metadata": {},
     "output_type": "execute_result"
    },
    {
     "data": {
      "image/png": "[encoded data removed]",
      "text/plain": [
       "<Figure size 432x288 with 1 Axes>"
      ]
     },
     "metadata": {
      "needs_background": "light"
     },
     "output_type": "display_data"
    }
   ],
   "source": [
    "sns.countplot(df.Work_accident)"
   ]
  },
  {
   "cell_type": "code",
   "execution_count": 30,
   "id": "c1ac5344",
   "metadata": {},
   "outputs": [
    {
     "name": "stderr",
     "output_type": "stream",
     "text": [
      "/Users/rajeski/opt/anaconda3/lib/python3.8/site-packages/seaborn/_decorators.py:36: FutureWarning: Pass the following variable as a keyword arg: x. From version 0.12, the only valid positional argument will be `data`, and passing other arguments without an explicit keyword will result in an error or misinterpretation.\n",
      "  warnings.warn(\n"
     ]
    },
    {
     "data": {
      "text/plain": [
       "(array([0, 1, 2, 3, 4, 5, 6, 7, 8, 9]),\n",
       " [Text(0, 0, 'sales'),\n",
       "  Text(1, 0, 'accounting'),\n",
       "  Text(2, 0, 'hr'),\n",
       "  Text(3, 0, 'technical'),\n",
       "  Text(4, 0, 'support'),\n",
       "  Text(5, 0, 'management'),\n",
       "  Text(6, 0, 'IT'),\n",
       "  Text(7, 0, 'product_mng'),\n",
       "  Text(8, 0, 'marketing'),\n",
       "  Text(9, 0, 'RandD')])"
      ]
     },
     "execution_count": 30,
     "metadata": {},
     "output_type": "execute_result"
    },
    {
     "data": {
      "image/png": "[encoded data removed]",
      "text/plain": [
       "<Figure size 432x288 with 1 Axes>"
      ]
     },
     "metadata": {
      "needs_background": "light"
     },
     "output_type": "display_data"
    }
   ],
   "source": [
    "sns.countplot(df.Department)\n",
    "plt.xticks(rotation=90)"
   ]
  },
  {
   "cell_type": "code",
   "execution_count": 31,
   "id": "d213406a",
   "metadata": {},
   "outputs": [
    {
     "name": "stderr",
     "output_type": "stream",
     "text": [
      "/Users/rajeski/opt/anaconda3/lib/python3.8/site-packages/seaborn/_decorators.py:36: FutureWarning: Pass the following variable as a keyword arg: x. From version 0.12, the only valid positional argument will be `data`, and passing other arguments without an explicit keyword will result in an error or misinterpretation.\n",
      "  warnings.warn(\n"
     ]
    },
    {
     "data": {
      "text/plain": [
       "<AxesSubplot:xlabel='Turnover', ylabel='count'>"
      ]
     },
     "execution_count": 31,
     "metadata": {},
     "output_type": "execute_result"
    },
    {
     "data": {
      "image/png": "[encoded data removed]",
      "text/plain": [
       "<Figure size 432x288 with 1 Axes>"
      ]
     },
     "metadata": {
      "needs_background": "light"
     },
     "output_type": "display_data"
    }
   ],
   "source": [
    "sns.countplot(df.Turnover)"
   ]
  },
  {
   "cell_type": "markdown",
   "id": "3dbd9ea1",
   "metadata": {},
   "source": [
    "Summary:\n",
    "\n",
    "1. Average Monthly Hours:  Bimodal distribution of employees with lower and higher average monthly hours (less than 150 hours & more than 250 hours)\n",
    "2. Employee Satisfaction: Contrast between low and high employee satisfaction. \n",
    "3. Evaluation: Bimodal distribution of employees for employees with low evaluations (below 0.6) and high evaluations (above 0.8)\n",
    "4. Highest department for number of employees is Sales.\n",
    "5. Number of employees with tenure of 3 years is fairly high.\n",
    "6. Number of on-the-job employee accidents is fairly low."
   ]
  },
  {
   "cell_type": "markdown",
   "id": "128d3675",
   "metadata": {},
   "source": [
    "# Employee Salary to Turnover"
   ]
  },
  {
   "cell_type": "code",
   "execution_count": 36,
   "id": "e8d5cb3c",
   "metadata": {},
   "outputs": [
    {
     "data": {
      "image/png": "[encoded data removed]",
      "text/plain": [
       "<Figure size 432x288 with 1 Axes>"
      ]
     },
     "metadata": {
      "needs_background": "light"
     },
     "output_type": "display_data"
    }
   ],
   "source": [
    "sns.countplot(y=\"Salary\", hue='Turnover', data=df).set_title('Employee Salary to Turnover');"
   ]
  },
  {
   "cell_type": "code",
   "execution_count": 37,
   "id": "721212b0",
   "metadata": {},
   "outputs": [
    {
     "data": {
      "image/png": "[encoded data removed]",
      "text/plain": [
       "<Figure size 432x288 with 1 Axes>"
      ]
     },
     "metadata": {
      "needs_background": "light"
     },
     "output_type": "display_data"
    }
   ],
   "source": [
    "sns.countplot(y=\"Salary\", hue='Tenure', data=df).set_title('Employee Salary to Attrition');"
   ]
  },
  {
   "cell_type": "markdown",
   "id": "c5ab6edf",
   "metadata": {},
   "source": [
    "Summary: \n",
    "    \n",
    "1. Low / medium salaries seem to be more likely to resign. \n",
    "2. Employees paid higher salaries seem to be the least likely resign."
   ]
  },
  {
   "cell_type": "markdown",
   "id": "6275fc55",
   "metadata": {},
   "source": [
    "# Departmental Turnover"
   ]
  },
  {
   "cell_type": "code",
   "execution_count": 39,
   "id": "508badae",
   "metadata": {},
   "outputs": [
    {
     "data": {
      "image/png": "[encoded data removed]",
      "text/plain": [
       "<Figure size 432x288 with 1 Axes>"
      ]
     },
     "metadata": {
      "needs_background": "light"
     },
     "output_type": "display_data"
    }
   ],
   "source": [
    "sns.countplot(y=\"Department\", hue='Turnover', data=df).set_title('Employee Turnover by Department');"
   ]
  },
  {
   "cell_type": "markdown",
   "id": "8ee69465",
   "metadata": {},
   "source": [
    "Summary: \n",
    "\n",
    "1. Highest employee turnover Sales, Technical, Support (ranked order) Departments.\n",
    "2. Lowest employee turnover Management."
   ]
  },
  {
   "cell_type": "markdown",
   "id": "fe9c43b4",
   "metadata": {},
   "source": [
    "# Employee Project Count to Turnover"
   ]
  },
  {
   "cell_type": "code",
   "execution_count": 40,
   "id": "fba56a03",
   "metadata": {},
   "outputs": [
    {
     "data": {
      "image/png": "[encoded data removed]",
      "text/plain": [
       "<Figure size 432x288 with 1 Axes>"
      ]
     },
     "metadata": {
      "needs_background": "light"
     },
     "output_type": "display_data"
    }
   ],
   "source": [
    "sns.countplot(y=\"ProjectCount\", hue='Turnover', data=df).set_title('Employee Project Count to Turnover');"
   ]
  },
  {
   "cell_type": "markdown",
   "id": "003af26e",
   "metadata": {},
   "source": [
    "Summary: \n",
    "    \n",
    "1. Highest employee turnover (ranked order) 2, 6, 7 projects. \n",
    "2. Lowest employee turnover (ranked order) 3, 4, 5 projects. \n",
    "3. Every employee departed the company 7 projects."
   ]
  },
  {
   "cell_type": "markdown",
   "id": "df266846",
   "metadata": {},
   "source": [
    "# Employee Evaluation to Turnover"
   ]
  },
  {
   "cell_type": "code",
   "execution_count": 42,
   "id": "9bbac807",
   "metadata": {},
   "outputs": [
    {
     "data": {
      "text/plain": [
       "Text(0.5, 1.0, 'Employee Evaluation to Turnover / No Turnover')"
      ]
     },
     "execution_count": 42,
     "metadata": {},
     "output_type": "execute_result"
    },
    {
     "data": {
      "image/png": "[encoded data removed]",
      "text/plain": [
       "<Figure size 1080x288 with 1 Axes>"
      ]
     },
     "metadata": {
      "needs_background": "light"
     },
     "output_type": "display_data"
    }
   ],
   "source": [
    "fig = plt.figure(figsize=(15,4),)\n",
    "ax=sns.kdeplot(df.loc[(df['Turnover'] == 0),'Evaluation'] , color='b',shade=True,label='no turnover') # blue\n",
    "ax=sns.kdeplot(df.loc[(df['Turnover'] == 1),'Evaluation'] , color='r',shade=True, label='turnover') # red\n",
    "plt.title('Employee Evaluation to Turnover / No Turnover')"
   ]
  },
  {
   "cell_type": "markdown",
   "id": "a9977199",
   "metadata": {},
   "source": [
    "Summary: \n",
    "    \n",
    "1. Low / High performance employees (ranked in order) tend to resign the most. \n",
    "2. Employees within an evaluation range of 0.6 to 0.8 tend to stay to the company."
   ]
  },
  {
   "cell_type": "markdown",
   "id": "bc8d8a95",
   "metadata": {},
   "source": [
    "# Average Employee Monthly Hours to Turnover"
   ]
  },
  {
   "cell_type": "code",
   "execution_count": 43,
   "id": "57aaa2d3",
   "metadata": {},
   "outputs": [
    {
     "data": {
      "text/plain": [
       "Text(0.5, 1.0, 'Employee Average Monthly Hours to Turnover / No Turnover')"
      ]
     },
     "execution_count": 43,
     "metadata": {},
     "output_type": "execute_result"
    },
    {
     "data": {
      "image/png": "[encoded data removed]",
      "text/plain": [
       "<Figure size 1080x288 with 1 Axes>"
      ]
     },
     "metadata": {
      "needs_background": "light"
     },
     "output_type": "display_data"
    }
   ],
   "source": [
    "fig = plt.figure(figsize=(15,4))\n",
    "ax=sns.kdeplot(df.loc[(df['Turnover'] == 0),'AvgMonthlyHours'] , color='b',shade=True, label='no turnover') # blue\n",
    "ax=sns.kdeplot(df.loc[(df['Turnover'] == 1),'AvgMonthlyHours'] , color='r',shade=True, label='turnover') # red\n",
    "plt.title('Employee Average Monthly Hours to Turnover / No Turnover')"
   ]
  },
  {
   "cell_type": "markdown",
   "id": "3c55533b",
   "metadata": {},
   "source": [
    "Summary: \n",
    "1. Employees working less (150 hours or less) left the at the highest rate.\n",
    "2. Employees working more (250 hours or more) left the at the second highest rate.\n",
    "3. Under-utilization or over-utilization seem to be problematic issues needing to be addressed."
   ]
  },
  {
   "cell_type": "markdown",
   "id": "81d5db3c",
   "metadata": {},
   "source": [
    "# Employee Satisfaction to Turnover"
   ]
  },
  {
   "cell_type": "code",
   "execution_count": 44,
   "id": "4c5beebe",
   "metadata": {},
   "outputs": [
    {
     "data": {
      "text/plain": [
       "Text(0.5, 1.0, 'Employee Satisfaction to Turnover / No Turnover')"
      ]
     },
     "execution_count": 44,
     "metadata": {},
     "output_type": "execute_result"
    },
    {
     "data": {
      "image/png": "[encoded data removed]",
      "text/plain": [
       "<Figure size 1080x288 with 1 Axes>"
      ]
     },
     "metadata": {
      "needs_background": "light"
     },
     "output_type": "display_data"
    }
   ],
   "source": [
    "fig = plt.figure(figsize=(15,4))\n",
    "ax=sns.kdeplot(df.loc[(df['Turnover'] == 0),'Satisfaction'] , color='b',shade=True, label='no turnover') # blue\n",
    "ax=sns.kdeplot(df.loc[(df['Turnover'] == 1),'Satisfaction'] , color='r',shade=True, label='turnover') # red\n",
    "plt.title('Employee Satisfaction to Turnover / No Turnover')"
   ]
  },
  {
   "cell_type": "markdown",
   "id": "cc11f098",
   "metadata": {},
   "source": [
    "Summary: \n",
    "\n",
    "1. Low employee satisfaction levels (0.3~0.5) had the highest attrition rate.\n",
    "2. Low employee satisfaction levels (0.2 or less) had the next highest attrition rate.\n",
    "3. Conversely, high employee satisfaction levels (0.7 or more) had the third highest attrition rate."
   ]
  },
  {
   "cell_type": "markdown",
   "id": "d4ca13d6",
   "metadata": {},
   "source": [
    "# Employee Turnover to Tenure"
   ]
  },
  {
   "cell_type": "code",
   "execution_count": 49,
   "id": "7186239b",
   "metadata": {},
   "outputs": [
    {
     "data": {
      "text/plain": [
       "[Text(0, 0.5, 'Percent')]"
      ]
     },
     "execution_count": 49,
     "metadata": {},
     "output_type": "execute_result"
    },
    {
     "data": {
      "image/png": "[encoded data removed]",
      "text/plain": [
       "<Figure size 432x288 with 1 Axes>"
      ]
     },
     "metadata": {
      "needs_background": "light"
     },
     "output_type": "display_data"
    }
   ],
   "source": [
    "ax = sns.barplot(x='Tenure', y='Tenure', hue='Tenure', data=df, estimator=lambda x: len(x) / len(df) * 100)\n",
    "ax.set(ylabel='Percent')"
   ]
  },
  {
   "cell_type": "markdown",
   "id": "37b98c7d",
   "metadata": {},
   "source": [
    "Summary: \n",
    "1. Employees with under 3 years of tenure had the highest attrition rate. \n",
    "2. Employees with under 1 year of tenure had next highest attrition rate.\n",
    "3. Employees with under 4 years of tenure had next highest attrition rate.\n",
    "4. Employees with under 5 years of tenure had next highest attrition rate.\n",
    "5. Employees reaching just over 6 years of tenure began a downward attrition rate \n",
    "until it increased again at 10+ years of tenure."
   ]
  },
  {
   "cell_type": "markdown",
   "id": "f2a5ea90",
   "metadata": {},
   "source": [
    "# Employee Work Accidents to Turnover"
   ]
  },
  {
   "cell_type": "code",
   "execution_count": 51,
   "id": "7b9d3e76",
   "metadata": {},
   "outputs": [
    {
     "data": {
      "text/plain": [
       "<AxesSubplot:xlabel='count', ylabel='Work_accident'>"
      ]
     },
     "execution_count": 51,
     "metadata": {},
     "output_type": "execute_result"
    },
    {
     "data": {
      "image/png": "[encoded data removed]",
      "text/plain": [
       "<Figure size 432x288 with 1 Axes>"
      ]
     },
     "metadata": {
      "needs_background": "light"
     },
     "output_type": "display_data"
    }
   ],
   "source": [
    "sns.countplot(y = 'Work_accident',hue='Turnover', data=df)"
   ]
  },
  {
   "cell_type": "markdown",
   "id": "7d158dd9",
   "metadata": {},
   "source": [
    "# Employee Promotion to Turnover"
   ]
  },
  {
   "cell_type": "code",
   "execution_count": 52,
   "id": "12105ad3",
   "metadata": {},
   "outputs": [
    {
     "data": {
      "text/plain": [
       "<AxesSubplot:xlabel='count', ylabel='Promotion'>"
      ]
     },
     "execution_count": 52,
     "metadata": {},
     "output_type": "execute_result"
    },
    {
     "data": {
      "image/png": "[encoded data removed]",
      "text/plain": [
       "<Figure size 432x288 with 1 Axes>"
      ]
     },
     "metadata": {
      "needs_background": "light"
     },
     "output_type": "display_data"
    }
   ],
   "source": [
    "sns.countplot(y = 'Promotion',hue='Turnover', data=df)"
   ]
  },
  {
   "cell_type": "markdown",
   "id": "b5e33c47",
   "metadata": {},
   "source": [
    "Summary: \n",
    "    \n",
    "1. Employees who received a promotion tended to stay at the company."
   ]
  },
  {
   "cell_type": "markdown",
   "id": "e66bf920",
   "metadata": {},
   "source": [
    "# Employee Project Count to Evaluation"
   ]
  },
  {
   "cell_type": "code",
   "execution_count": 56,
   "id": "ee34d7f1",
   "metadata": {},
   "outputs": [
    {
     "data": {
      "text/plain": [
       "<AxesSubplot:xlabel='ProjectCount', ylabel='Evaluation'>"
      ]
     },
     "execution_count": 56,
     "metadata": {},
     "output_type": "execute_result"
    },
    {
     "data": {
      "image/png": "[encoded data removed]",
      "text/plain": [
       "<Figure size 432x288 with 1 Axes>"
      ]
     },
     "metadata": {
      "needs_background": "light"
     },
     "output_type": "display_data"
    }
   ],
   "source": [
    "sns.boxplot(x=\"ProjectCount\", y=\"Evaluation\", hue=\"Turnover\", data=df)"
   ]
  },
  {
   "cell_type": "markdown",
   "id": "e973f964",
   "metadata": {},
   "source": [
    "Summary: \n",
    "1. Employees with an evaluation-average of roughly 70% tended to stay at the company.\n",
    "2. Skew in employee turnover after 3 projects. \n",
    "3. Employees with two projects and a lower evaluation left the company.\n",
    "4. Employees with more than 3 projects and a higher evaluation left the company."
   ]
  },
  {
   "cell_type": "markdown",
   "id": "9fd63b72",
   "metadata": {},
   "source": [
    "# Project Count to Average Monthly Hours"
   ]
  },
  {
   "cell_type": "code",
   "execution_count": 57,
   "id": "954805b5",
   "metadata": {},
   "outputs": [
    {
     "data": {
      "text/plain": [
       "<AxesSubplot:xlabel='ProjectCount', ylabel='AvgMonthlyHours'>"
      ]
     },
     "execution_count": 57,
     "metadata": {},
     "output_type": "execute_result"
    },
    {
     "data": {
      "image/png": "[encoded data removed]",
      "text/plain": [
       "<Figure size 432x288 with 1 Axes>"
      ]
     },
     "metadata": {
      "needs_background": "light"
     },
     "output_type": "display_data"
    }
   ],
   "source": [
    "sns.boxplot(x=\"ProjectCount\", y=\"AvgMonthlyHours\", hue=\"Turnover\", data=df)"
   ]
  },
  {
   "cell_type": "markdown",
   "id": "9ef8a38d",
   "metadata": {},
   "source": [
    "Summary: \n",
    "1. The average employees worked about 200hours/month remained at the company. \n",
    "2. Employee turnover for around 150hours/month or 250hours/month worked resulted in a higher attrition rate. "
   ]
  },
  {
   "cell_type": "markdown",
   "id": "c174e58a",
   "metadata": {},
   "source": [
    "# Employee Satisfaction to Evaluation"
   ]
  },
  {
   "cell_type": "code",
   "execution_count": 58,
   "id": "096c8a1c",
   "metadata": {},
   "outputs": [
    {
     "data": {
      "text/plain": [
       "<seaborn.axisgrid.FacetGrid at 0x7f977d590850>"
      ]
     },
     "execution_count": 58,
     "metadata": {},
     "output_type": "execute_result"
    },
    {
     "data": {
      "image/png": "[encoded data removed]",
      "text/plain": [
       "<Figure size 411.375x360 with 1 Axes>"
      ]
     },
     "metadata": {
      "needs_background": "light"
     },
     "output_type": "display_data"
    }
   ],
   "source": [
    "sns.lmplot(x='Satisfaction', y='Evaluation', data=df,\n",
    "           fit_reg=False, # no regression line\n",
    "           hue='Turnover')"
   ]
  },
  {
   "cell_type": "markdown",
   "id": "11150894",
   "metadata": {},
   "source": [
    "Summary: \n",
    "\n",
    "Three distinct employee clusters -  \n",
    "\n",
    "Cluster 1: (Worked and Dissatisfied with...)\n",
    "Employee satisfaction was below 0.2; evaluations were greater than 0.75, could indicate an employee who put in the work but was unsatisfied with the job, the work environment and/or the company. \n",
    "\n",
    "Cluster 2: (Worked and Dissatisfied because...)\n",
    "Employee satisfaction between about 0.35~0.45; evaluations were below ~0.58, could indicate an employee who received a poor evaluation and as a result felt bad about it or for being at the company itself. \n",
    "\n",
    "Cluster 3: (Worked and Satisfied about...)\n",
    "Employee satisfaction between 0.7~1.0; evaluations were greater than 0.8, could indicate an employee who was optimal due to being both satisfied with this job who also received a high performance evaluation (which could be self-reinforcing)."
   ]
  },
  {
   "cell_type": "code",
   "execution_count": 59,
   "id": "4b096c26",
   "metadata": {},
   "outputs": [
    {
     "data": {
      "image/png": "[encoded data removed]",
      "text/plain": [
       "<Figure size 720x432 with 1 Axes>"
      ]
     },
     "metadata": {
      "needs_background": "light"
     },
     "output_type": "display_data"
    }
   ],
   "source": [
    "from sklearn.cluster import KMeans\n",
    "\n",
    "# Employee Turnover Cluster\n",
    "kmeans = KMeans(n_clusters=3,random_state=2)\n",
    "kmeans.fit(df[df.Turnover==1][[\"Satisfaction\",\"Evaluation\"]])\n",
    "\n",
    "kmeans_colors = ['green' if c == 0 else 'blue' if c == 2 else 'red' for c in kmeans.labels_]\n",
    "\n",
    "fig = plt.figure(figsize=(10, 6))\n",
    "plt.scatter(x=\"Satisfaction\",y=\"Evaluation\", data=df[df.Turnover==1],\n",
    "            alpha=0.25,color = kmeans_colors)\n",
    "plt.xlabel(\"Satisfaction\")\n",
    "plt.ylabel(\"Evaluation\")\n",
    "plt.scatter(x=kmeans.cluster_centers_[:,0],y=kmeans.cluster_centers_[:,1],color=\"black\",marker=\"X\",s=100)\n",
    "plt.title(\"Employee Turnover Cluster\")\n",
    "plt.show()"
   ]
  },
  {
   "cell_type": "code",
   "execution_count": 60,
   "id": "6ba1bfcf",
   "metadata": {},
   "outputs": [],
   "source": [
    "# Create Dummy Variables\n",
    "department = pd.get_dummies(data = df['Department'],prefix ='Dep')\n",
    "salary = pd.get_dummies(data = df['Salary'], prefix = 'Sal')\n",
    "df.drop(['Department','Salary'],axis = 1, inplace = True)\n",
    "df = pd.concat([df, department, salary],axis = 1)"
   ]
  },
  {
   "cell_type": "code",
   "execution_count": 86,
   "id": "b35fbe5c",
   "metadata": {},
   "outputs": [
    {
     "data": {
      "text/html": [
       "<div>\n",
       "<style scoped>\n",
       "    .dataframe tbody tr th:only-of-type {\n",
       "        vertical-align: middle;\n",
       "    }\n",
       "\n",
       "    .dataframe tbody tr th {\n",
       "        vertical-align: top;\n",
       "    }\n",
       "\n",
       "    .dataframe thead th {\n",
       "        text-align: right;\n",
       "    }\n",
       "</style>\n",
       "<table border=\"1\" class=\"dataframe\">\n",
       "  <thead>\n",
       "    <tr style=\"text-align: right;\">\n",
       "      <th></th>\n",
       "      <th>Satisfaction</th>\n",
       "      <th>Evaluation</th>\n",
       "      <th>ProjectCount</th>\n",
       "      <th>AvgMonthlyHours</th>\n",
       "      <th>Tenure</th>\n",
       "      <th>Work_accident</th>\n",
       "      <th>Turnover</th>\n",
       "      <th>Promotion</th>\n",
       "      <th>Dep_IT</th>\n",
       "      <th>Dep_RandD</th>\n",
       "      <th>...</th>\n",
       "      <th>Dep_hr</th>\n",
       "      <th>Dep_management</th>\n",
       "      <th>Dep_marketing</th>\n",
       "      <th>Dep_product_mng</th>\n",
       "      <th>Dep_sales</th>\n",
       "      <th>Dep_support</th>\n",
       "      <th>Dep_technical</th>\n",
       "      <th>Sal_high</th>\n",
       "      <th>Sal_low</th>\n",
       "      <th>Sal_medium</th>\n",
       "    </tr>\n",
       "  </thead>\n",
       "  <tbody>\n",
       "    <tr>\n",
       "      <th>Satisfaction</th>\n",
       "      <td>1.000000</td>\n",
       "      <td>0.105021</td>\n",
       "      <td>-0.142970</td>\n",
       "      <td>-0.020048</td>\n",
       "      <td>-0.100866</td>\n",
       "      <td>0.058697</td>\n",
       "      <td>-0.388375</td>\n",
       "      <td>0.025605</td>\n",
       "      <td>0.006373</td>\n",
       "      <td>0.006615</td>\n",
       "      <td>...</td>\n",
       "      <td>-0.012841</td>\n",
       "      <td>0.007172</td>\n",
       "      <td>0.005715</td>\n",
       "      <td>0.006919</td>\n",
       "      <td>0.004007</td>\n",
       "      <td>0.009185</td>\n",
       "      <td>-0.009345</td>\n",
       "      <td>0.029708</td>\n",
       "      <td>-0.047415</td>\n",
       "      <td>0.031367</td>\n",
       "    </tr>\n",
       "    <tr>\n",
       "      <th>Evaluation</th>\n",
       "      <td>0.105021</td>\n",
       "      <td>1.000000</td>\n",
       "      <td>0.349333</td>\n",
       "      <td>0.339742</td>\n",
       "      <td>0.131591</td>\n",
       "      <td>-0.007104</td>\n",
       "      <td>0.006567</td>\n",
       "      <td>-0.008684</td>\n",
       "      <td>0.001269</td>\n",
       "      <td>-0.005471</td>\n",
       "      <td>...</td>\n",
       "      <td>-0.009645</td>\n",
       "      <td>0.009662</td>\n",
       "      <td>-0.000311</td>\n",
       "      <td>-0.001989</td>\n",
       "      <td>-0.023031</td>\n",
       "      <td>0.017104</td>\n",
       "      <td>0.013742</td>\n",
       "      <td>-0.020628</td>\n",
       "      <td>0.005221</td>\n",
       "      <td>0.006191</td>\n",
       "    </tr>\n",
       "    <tr>\n",
       "      <th>ProjectCount</th>\n",
       "      <td>-0.142970</td>\n",
       "      <td>0.349333</td>\n",
       "      <td>1.000000</td>\n",
       "      <td>0.417211</td>\n",
       "      <td>0.196786</td>\n",
       "      <td>-0.004741</td>\n",
       "      <td>0.023787</td>\n",
       "      <td>-0.006064</td>\n",
       "      <td>0.003287</td>\n",
       "      <td>0.009703</td>\n",
       "      <td>...</td>\n",
       "      <td>-0.027356</td>\n",
       "      <td>0.009728</td>\n",
       "      <td>-0.023064</td>\n",
       "      <td>0.000829</td>\n",
       "      <td>-0.013388</td>\n",
       "      <td>0.000303</td>\n",
       "      <td>0.028596</td>\n",
       "      <td>-0.008726</td>\n",
       "      <td>-0.002504</td>\n",
       "      <td>0.007377</td>\n",
       "    </tr>\n",
       "    <tr>\n",
       "      <th>AvgMonthlyHours</th>\n",
       "      <td>-0.020048</td>\n",
       "      <td>0.339742</td>\n",
       "      <td>0.417211</td>\n",
       "      <td>1.000000</td>\n",
       "      <td>0.127755</td>\n",
       "      <td>-0.010143</td>\n",
       "      <td>0.071287</td>\n",
       "      <td>-0.003544</td>\n",
       "      <td>0.006967</td>\n",
       "      <td>-0.001177</td>\n",
       "      <td>...</td>\n",
       "      <td>-0.010783</td>\n",
       "      <td>0.000834</td>\n",
       "      <td>-0.008210</td>\n",
       "      <td>-0.005494</td>\n",
       "      <td>-0.001718</td>\n",
       "      <td>-0.002444</td>\n",
       "      <td>0.013638</td>\n",
       "      <td>-0.007101</td>\n",
       "      <td>-0.001050</td>\n",
       "      <td>0.005007</td>\n",
       "    </tr>\n",
       "    <tr>\n",
       "      <th>Tenure</th>\n",
       "      <td>-0.100866</td>\n",
       "      <td>0.131591</td>\n",
       "      <td>0.196786</td>\n",
       "      <td>0.127755</td>\n",
       "      <td>1.000000</td>\n",
       "      <td>0.002120</td>\n",
       "      <td>0.144822</td>\n",
       "      <td>0.067433</td>\n",
       "      <td>-0.006053</td>\n",
       "      <td>-0.021116</td>\n",
       "      <td>...</td>\n",
       "      <td>-0.022194</td>\n",
       "      <td>0.115436</td>\n",
       "      <td>0.012096</td>\n",
       "      <td>-0.003919</td>\n",
       "      <td>0.015150</td>\n",
       "      <td>-0.030111</td>\n",
       "      <td>-0.027991</td>\n",
       "      <td>0.039953</td>\n",
       "      <td>-0.040110</td>\n",
       "      <td>0.018299</td>\n",
       "    </tr>\n",
       "    <tr>\n",
       "      <th>Work_accident</th>\n",
       "      <td>0.058697</td>\n",
       "      <td>-0.007104</td>\n",
       "      <td>-0.004741</td>\n",
       "      <td>-0.010143</td>\n",
       "      <td>0.002120</td>\n",
       "      <td>1.000000</td>\n",
       "      <td>-0.154622</td>\n",
       "      <td>0.039245</td>\n",
       "      <td>-0.009293</td>\n",
       "      <td>0.017167</td>\n",
       "      <td>...</td>\n",
       "      <td>-0.015649</td>\n",
       "      <td>0.011242</td>\n",
       "      <td>0.011367</td>\n",
       "      <td>0.001246</td>\n",
       "      <td>-0.004955</td>\n",
       "      <td>0.012079</td>\n",
       "      <td>-0.006070</td>\n",
       "      <td>0.009040</td>\n",
       "      <td>-0.006813</td>\n",
       "      <td>0.001856</td>\n",
       "    </tr>\n",
       "    <tr>\n",
       "      <th>Turnover</th>\n",
       "      <td>-0.388375</td>\n",
       "      <td>0.006567</td>\n",
       "      <td>0.023787</td>\n",
       "      <td>0.071287</td>\n",
       "      <td>0.144822</td>\n",
       "      <td>-0.154622</td>\n",
       "      <td>1.000000</td>\n",
       "      <td>-0.061788</td>\n",
       "      <td>-0.010925</td>\n",
       "      <td>-0.046596</td>\n",
       "      <td>...</td>\n",
       "      <td>0.028249</td>\n",
       "      <td>-0.046035</td>\n",
       "      <td>-0.000859</td>\n",
       "      <td>-0.011029</td>\n",
       "      <td>0.009923</td>\n",
       "      <td>0.010700</td>\n",
       "      <td>0.020076</td>\n",
       "      <td>-0.120929</td>\n",
       "      <td>0.134722</td>\n",
       "      <td>-0.068833</td>\n",
       "    </tr>\n",
       "    <tr>\n",
       "      <th>Promotion</th>\n",
       "      <td>0.025605</td>\n",
       "      <td>-0.008684</td>\n",
       "      <td>-0.006064</td>\n",
       "      <td>-0.003544</td>\n",
       "      <td>0.067433</td>\n",
       "      <td>0.039245</td>\n",
       "      <td>-0.061788</td>\n",
       "      <td>1.000000</td>\n",
       "      <td>-0.038942</td>\n",
       "      <td>0.021268</td>\n",
       "      <td>...</td>\n",
       "      <td>-0.001531</td>\n",
       "      <td>0.128087</td>\n",
       "      <td>0.049253</td>\n",
       "      <td>-0.037288</td>\n",
       "      <td>0.012353</td>\n",
       "      <td>-0.035605</td>\n",
       "      <td>-0.035799</td>\n",
       "      <td>0.076756</td>\n",
       "      <td>-0.082832</td>\n",
       "      <td>0.040985</td>\n",
       "    </tr>\n",
       "    <tr>\n",
       "      <th>Dep_IT</th>\n",
       "      <td>0.006373</td>\n",
       "      <td>0.001269</td>\n",
       "      <td>0.003287</td>\n",
       "      <td>0.006967</td>\n",
       "      <td>-0.006053</td>\n",
       "      <td>-0.009293</td>\n",
       "      <td>-0.010925</td>\n",
       "      <td>-0.038942</td>\n",
       "      <td>1.000000</td>\n",
       "      <td>-0.070240</td>\n",
       "      <td>...</td>\n",
       "      <td>-0.067949</td>\n",
       "      <td>-0.062500</td>\n",
       "      <td>-0.073524</td>\n",
       "      <td>-0.075503</td>\n",
       "      <td>-0.184302</td>\n",
       "      <td>-0.124705</td>\n",
       "      <td>-0.140484</td>\n",
       "      <td>-0.016089</td>\n",
       "      <td>0.005116</td>\n",
       "      <td>0.003775</td>\n",
       "    </tr>\n",
       "    <tr>\n",
       "      <th>Dep_RandD</th>\n",
       "      <td>0.006615</td>\n",
       "      <td>-0.005471</td>\n",
       "      <td>0.009703</td>\n",
       "      <td>-0.001177</td>\n",
       "      <td>-0.021116</td>\n",
       "      <td>0.017167</td>\n",
       "      <td>-0.046596</td>\n",
       "      <td>0.021268</td>\n",
       "      <td>-0.070240</td>\n",
       "      <td>1.000000</td>\n",
       "      <td>...</td>\n",
       "      <td>-0.053570</td>\n",
       "      <td>-0.049274</td>\n",
       "      <td>-0.057965</td>\n",
       "      <td>-0.059525</td>\n",
       "      <td>-0.145300</td>\n",
       "      <td>-0.098315</td>\n",
       "      <td>-0.110755</td>\n",
       "      <td>-0.015115</td>\n",
       "      <td>-0.011887</td>\n",
       "      <td>0.020402</td>\n",
       "    </tr>\n",
       "    <tr>\n",
       "      <th>Dep_accounting</th>\n",
       "      <td>-0.028649</td>\n",
       "      <td>0.002193</td>\n",
       "      <td>0.004189</td>\n",
       "      <td>0.000524</td>\n",
       "      <td>0.003909</td>\n",
       "      <td>-0.012836</td>\n",
       "      <td>0.015201</td>\n",
       "      <td>-0.004852</td>\n",
       "      <td>-0.069293</td>\n",
       "      <td>-0.054629</td>\n",
       "      <td>...</td>\n",
       "      <td>-0.052848</td>\n",
       "      <td>-0.048610</td>\n",
       "      <td>-0.057183</td>\n",
       "      <td>-0.058723</td>\n",
       "      <td>-0.143341</td>\n",
       "      <td>-0.096989</td>\n",
       "      <td>-0.109262</td>\n",
       "      <td>0.011821</td>\n",
       "      <td>-0.009759</td>\n",
       "      <td>0.003285</td>\n",
       "    </tr>\n",
       "    <tr>\n",
       "      <th>Dep_hr</th>\n",
       "      <td>-0.012841</td>\n",
       "      <td>-0.009645</td>\n",
       "      <td>-0.027356</td>\n",
       "      <td>-0.010783</td>\n",
       "      <td>-0.022194</td>\n",
       "      <td>-0.015649</td>\n",
       "      <td>0.028249</td>\n",
       "      <td>-0.001531</td>\n",
       "      <td>-0.067949</td>\n",
       "      <td>-0.053570</td>\n",
       "      <td>...</td>\n",
       "      <td>1.000000</td>\n",
       "      <td>-0.047667</td>\n",
       "      <td>-0.056075</td>\n",
       "      <td>-0.057584</td>\n",
       "      <td>-0.140562</td>\n",
       "      <td>-0.095109</td>\n",
       "      <td>-0.107143</td>\n",
       "      <td>-0.017858</td>\n",
       "      <td>-0.015690</td>\n",
       "      <td>0.025765</td>\n",
       "    </tr>\n",
       "    <tr>\n",
       "      <th>Dep_management</th>\n",
       "      <td>0.007172</td>\n",
       "      <td>0.009662</td>\n",
       "      <td>0.009728</td>\n",
       "      <td>0.000834</td>\n",
       "      <td>0.115436</td>\n",
       "      <td>0.011242</td>\n",
       "      <td>-0.046035</td>\n",
       "      <td>0.128087</td>\n",
       "      <td>-0.062500</td>\n",
       "      <td>-0.049274</td>\n",
       "      <td>...</td>\n",
       "      <td>-0.047667</td>\n",
       "      <td>1.000000</td>\n",
       "      <td>-0.051578</td>\n",
       "      <td>-0.052966</td>\n",
       "      <td>-0.129289</td>\n",
       "      <td>-0.087482</td>\n",
       "      <td>-0.098551</td>\n",
       "      <td>0.209077</td>\n",
       "      <td>-0.084641</td>\n",
       "      <td>-0.030716</td>\n",
       "    </tr>\n",
       "    <tr>\n",
       "      <th>Dep_marketing</th>\n",
       "      <td>0.005715</td>\n",
       "      <td>-0.000311</td>\n",
       "      <td>-0.023064</td>\n",
       "      <td>-0.008210</td>\n",
       "      <td>0.012096</td>\n",
       "      <td>0.011367</td>\n",
       "      <td>-0.000859</td>\n",
       "      <td>0.049253</td>\n",
       "      <td>-0.073524</td>\n",
       "      <td>-0.057965</td>\n",
       "      <td>...</td>\n",
       "      <td>-0.056075</td>\n",
       "      <td>-0.051578</td>\n",
       "      <td>1.000000</td>\n",
       "      <td>-0.062308</td>\n",
       "      <td>-0.152093</td>\n",
       "      <td>-0.102911</td>\n",
       "      <td>-0.115933</td>\n",
       "      <td>0.009642</td>\n",
       "      <td>-0.009479</td>\n",
       "      <td>0.004213</td>\n",
       "    </tr>\n",
       "    <tr>\n",
       "      <th>Dep_product_mng</th>\n",
       "      <td>0.006919</td>\n",
       "      <td>-0.001989</td>\n",
       "      <td>0.000829</td>\n",
       "      <td>-0.005494</td>\n",
       "      <td>-0.003919</td>\n",
       "      <td>0.001246</td>\n",
       "      <td>-0.011029</td>\n",
       "      <td>-0.037288</td>\n",
       "      <td>-0.075503</td>\n",
       "      <td>-0.059525</td>\n",
       "      <td>...</td>\n",
       "      <td>-0.057584</td>\n",
       "      <td>-0.052966</td>\n",
       "      <td>-0.062308</td>\n",
       "      <td>1.000000</td>\n",
       "      <td>-0.156187</td>\n",
       "      <td>-0.105682</td>\n",
       "      <td>-0.119054</td>\n",
       "      <td>-0.006514</td>\n",
       "      <td>0.006191</td>\n",
       "      <td>-0.002632</td>\n",
       "    </tr>\n",
       "    <tr>\n",
       "      <th>Dep_sales</th>\n",
       "      <td>0.004007</td>\n",
       "      <td>-0.023031</td>\n",
       "      <td>-0.013388</td>\n",
       "      <td>-0.001718</td>\n",
       "      <td>0.015150</td>\n",
       "      <td>-0.004955</td>\n",
       "      <td>0.009923</td>\n",
       "      <td>0.012353</td>\n",
       "      <td>-0.184302</td>\n",
       "      <td>-0.145300</td>\n",
       "      <td>...</td>\n",
       "      <td>-0.140562</td>\n",
       "      <td>-0.129289</td>\n",
       "      <td>-0.152093</td>\n",
       "      <td>-0.156187</td>\n",
       "      <td>1.000000</td>\n",
       "      <td>-0.257967</td>\n",
       "      <td>-0.290608</td>\n",
       "      <td>-0.039273</td>\n",
       "      <td>0.023766</td>\n",
       "      <td>-0.002174</td>\n",
       "    </tr>\n",
       "    <tr>\n",
       "      <th>Dep_support</th>\n",
       "      <td>0.009185</td>\n",
       "      <td>0.017104</td>\n",
       "      <td>0.000303</td>\n",
       "      <td>-0.002444</td>\n",
       "      <td>-0.030111</td>\n",
       "      <td>0.012079</td>\n",
       "      <td>0.010700</td>\n",
       "      <td>-0.035605</td>\n",
       "      <td>-0.124705</td>\n",
       "      <td>-0.098315</td>\n",
       "      <td>...</td>\n",
       "      <td>-0.095109</td>\n",
       "      <td>-0.087482</td>\n",
       "      <td>-0.102911</td>\n",
       "      <td>-0.105682</td>\n",
       "      <td>-0.257967</td>\n",
       "      <td>1.000000</td>\n",
       "      <td>-0.196636</td>\n",
       "      <td>-0.029184</td>\n",
       "      <td>0.022038</td>\n",
       "      <td>-0.006035</td>\n",
       "    </tr>\n",
       "    <tr>\n",
       "      <th>Dep_technical</th>\n",
       "      <td>-0.009345</td>\n",
       "      <td>0.013742</td>\n",
       "      <td>0.028596</td>\n",
       "      <td>0.013638</td>\n",
       "      <td>-0.027991</td>\n",
       "      <td>-0.006070</td>\n",
       "      <td>0.020076</td>\n",
       "      <td>-0.035799</td>\n",
       "      <td>-0.140484</td>\n",
       "      <td>-0.110755</td>\n",
       "      <td>...</td>\n",
       "      <td>-0.107143</td>\n",
       "      <td>-0.098551</td>\n",
       "      <td>-0.115933</td>\n",
       "      <td>-0.119054</td>\n",
       "      <td>-0.290608</td>\n",
       "      <td>-0.196636</td>\n",
       "      <td>1.000000</td>\n",
       "      <td>-0.014672</td>\n",
       "      <td>0.015674</td>\n",
       "      <td>-0.007673</td>\n",
       "    </tr>\n",
       "    <tr>\n",
       "      <th>Sal_high</th>\n",
       "      <td>0.029708</td>\n",
       "      <td>-0.020628</td>\n",
       "      <td>-0.008726</td>\n",
       "      <td>-0.007101</td>\n",
       "      <td>0.039953</td>\n",
       "      <td>0.009040</td>\n",
       "      <td>-0.120929</td>\n",
       "      <td>0.076756</td>\n",
       "      <td>-0.016089</td>\n",
       "      <td>-0.015115</td>\n",
       "      <td>...</td>\n",
       "      <td>-0.017858</td>\n",
       "      <td>0.209077</td>\n",
       "      <td>0.009642</td>\n",
       "      <td>-0.006514</td>\n",
       "      <td>-0.039273</td>\n",
       "      <td>-0.029184</td>\n",
       "      <td>-0.014672</td>\n",
       "      <td>1.000000</td>\n",
       "      <td>-0.292560</td>\n",
       "      <td>-0.260274</td>\n",
       "    </tr>\n",
       "    <tr>\n",
       "      <th>Sal_low</th>\n",
       "      <td>-0.047415</td>\n",
       "      <td>0.005221</td>\n",
       "      <td>-0.002504</td>\n",
       "      <td>-0.001050</td>\n",
       "      <td>-0.040110</td>\n",
       "      <td>-0.006813</td>\n",
       "      <td>0.134722</td>\n",
       "      <td>-0.082832</td>\n",
       "      <td>0.005116</td>\n",
       "      <td>-0.011887</td>\n",
       "      <td>...</td>\n",
       "      <td>-0.015690</td>\n",
       "      <td>-0.084641</td>\n",
       "      <td>-0.009479</td>\n",
       "      <td>0.006191</td>\n",
       "      <td>0.023766</td>\n",
       "      <td>0.022038</td>\n",
       "      <td>0.015674</td>\n",
       "      <td>-0.292560</td>\n",
       "      <td>1.000000</td>\n",
       "      <td>-0.847144</td>\n",
       "    </tr>\n",
       "    <tr>\n",
       "      <th>Sal_medium</th>\n",
       "      <td>0.031367</td>\n",
       "      <td>0.006191</td>\n",
       "      <td>0.007377</td>\n",
       "      <td>0.005007</td>\n",
       "      <td>0.018299</td>\n",
       "      <td>0.001856</td>\n",
       "      <td>-0.068833</td>\n",
       "      <td>0.040985</td>\n",
       "      <td>0.003775</td>\n",
       "      <td>0.020402</td>\n",
       "      <td>...</td>\n",
       "      <td>0.025765</td>\n",
       "      <td>-0.030716</td>\n",
       "      <td>0.004213</td>\n",
       "      <td>-0.002632</td>\n",
       "      <td>-0.002174</td>\n",
       "      <td>-0.006035</td>\n",
       "      <td>-0.007673</td>\n",
       "      <td>-0.260274</td>\n",
       "      <td>-0.847144</td>\n",
       "      <td>1.000000</td>\n",
       "    </tr>\n",
       "  </tbody>\n",
       "</table>\n",
       "<p>21 rows × 21 columns</p>\n",
       "</div>"
      ],
      "text/plain": [
       "                 Satisfaction  Evaluation  ProjectCount  AvgMonthlyHours  \\\n",
       "Satisfaction         1.000000    0.105021     -0.142970        -0.020048   \n",
       "Evaluation           0.105021    1.000000      0.349333         0.339742   \n",
       "ProjectCount        -0.142970    0.349333      1.000000         0.417211   \n",
       "AvgMonthlyHours     -0.020048    0.339742      0.417211         1.000000   \n",
       "Tenure              -0.100866    0.131591      0.196786         0.127755   \n",
       "Work_accident        0.058697   -0.007104     -0.004741        -0.010143   \n",
       "Turnover            -0.388375    0.006567      0.023787         0.071287   \n",
       "Promotion            0.025605   -0.008684     -0.006064        -0.003544   \n",
       "Dep_IT               0.006373    0.001269      0.003287         0.006967   \n",
       "Dep_RandD            0.006615   -0.005471      0.009703        -0.001177   \n",
       "Dep_accounting      -0.028649    0.002193      0.004189         0.000524   \n",
       "Dep_hr              -0.012841   -0.009645     -0.027356        -0.010783   \n",
       "Dep_management       0.007172    0.009662      0.009728         0.000834   \n",
       "Dep_marketing        0.005715   -0.000311     -0.023064        -0.008210   \n",
       "Dep_product_mng      0.006919   -0.001989      0.000829        -0.005494   \n",
       "Dep_sales            0.004007   -0.023031     -0.013388        -0.001718   \n",
       "Dep_support          0.009185    0.017104      0.000303        -0.002444   \n",
       "Dep_technical       -0.009345    0.013742      0.028596         0.013638   \n",
       "Sal_high             0.029708   -0.020628     -0.008726        -0.007101   \n",
       "Sal_low             -0.047415    0.005221     -0.002504        -0.001050   \n",
       "Sal_medium           0.031367    0.006191      0.007377         0.005007   \n",
       "\n",
       "                   Tenure  Work_accident  Turnover  Promotion    Dep_IT  \\\n",
       "Satisfaction    -0.100866       0.058697 -0.388375   0.025605  0.006373   \n",
       "Evaluation       0.131591      -0.007104  0.006567  -0.008684  0.001269   \n",
       "ProjectCount     0.196786      -0.004741  0.023787  -0.006064  0.003287   \n",
       "AvgMonthlyHours  0.127755      -0.010143  0.071287  -0.003544  0.006967   \n",
       "Tenure           1.000000       0.002120  0.144822   0.067433 -0.006053   \n",
       "Work_accident    0.002120       1.000000 -0.154622   0.039245 -0.009293   \n",
       "Turnover         0.144822      -0.154622  1.000000  -0.061788 -0.010925   \n",
       "Promotion        0.067433       0.039245 -0.061788   1.000000 -0.038942   \n",
       "Dep_IT          -0.006053      -0.009293 -0.010925  -0.038942  1.000000   \n",
       "Dep_RandD       -0.021116       0.017167 -0.046596   0.021268 -0.070240   \n",
       "Dep_accounting   0.003909      -0.012836  0.015201  -0.004852 -0.069293   \n",
       "Dep_hr          -0.022194      -0.015649  0.028249  -0.001531 -0.067949   \n",
       "Dep_management   0.115436       0.011242 -0.046035   0.128087 -0.062500   \n",
       "Dep_marketing    0.012096       0.011367 -0.000859   0.049253 -0.073524   \n",
       "Dep_product_mng -0.003919       0.001246 -0.011029  -0.037288 -0.075503   \n",
       "Dep_sales        0.015150      -0.004955  0.009923   0.012353 -0.184302   \n",
       "Dep_support     -0.030111       0.012079  0.010700  -0.035605 -0.124705   \n",
       "Dep_technical   -0.027991      -0.006070  0.020076  -0.035799 -0.140484   \n",
       "Sal_high         0.039953       0.009040 -0.120929   0.076756 -0.016089   \n",
       "Sal_low         -0.040110      -0.006813  0.134722  -0.082832  0.005116   \n",
       "Sal_medium       0.018299       0.001856 -0.068833   0.040985  0.003775   \n",
       "\n",
       "                 Dep_RandD  ...    Dep_hr  Dep_management  Dep_marketing  \\\n",
       "Satisfaction      0.006615  ... -0.012841        0.007172       0.005715   \n",
       "Evaluation       -0.005471  ... -0.009645        0.009662      -0.000311   \n",
       "ProjectCount      0.009703  ... -0.027356        0.009728      -0.023064   \n",
       "AvgMonthlyHours  -0.001177  ... -0.010783        0.000834      -0.008210   \n",
       "Tenure           -0.021116  ... -0.022194        0.115436       0.012096   \n",
       "Work_accident     0.017167  ... -0.015649        0.011242       0.011367   \n",
       "Turnover         -0.046596  ...  0.028249       -0.046035      -0.000859   \n",
       "Promotion         0.021268  ... -0.001531        0.128087       0.049253   \n",
       "Dep_IT           -0.070240  ... -0.067949       -0.062500      -0.073524   \n",
       "Dep_RandD         1.000000  ... -0.053570       -0.049274      -0.057965   \n",
       "Dep_accounting   -0.054629  ... -0.052848       -0.048610      -0.057183   \n",
       "Dep_hr           -0.053570  ...  1.000000       -0.047667      -0.056075   \n",
       "Dep_management   -0.049274  ... -0.047667        1.000000      -0.051578   \n",
       "Dep_marketing    -0.057965  ... -0.056075       -0.051578       1.000000   \n",
       "Dep_product_mng  -0.059525  ... -0.057584       -0.052966      -0.062308   \n",
       "Dep_sales        -0.145300  ... -0.140562       -0.129289      -0.152093   \n",
       "Dep_support      -0.098315  ... -0.095109       -0.087482      -0.102911   \n",
       "Dep_technical    -0.110755  ... -0.107143       -0.098551      -0.115933   \n",
       "Sal_high         -0.015115  ... -0.017858        0.209077       0.009642   \n",
       "Sal_low          -0.011887  ... -0.015690       -0.084641      -0.009479   \n",
       "Sal_medium        0.020402  ...  0.025765       -0.030716       0.004213   \n",
       "\n",
       "                 Dep_product_mng  Dep_sales  Dep_support  Dep_technical  \\\n",
       "Satisfaction            0.006919   0.004007     0.009185      -0.009345   \n",
       "Evaluation             -0.001989  -0.023031     0.017104       0.013742   \n",
       "ProjectCount            0.000829  -0.013388     0.000303       0.028596   \n",
       "AvgMonthlyHours        -0.005494  -0.001718    -0.002444       0.013638   \n",
       "Tenure                 -0.003919   0.015150    -0.030111      -0.027991   \n",
       "Work_accident           0.001246  -0.004955     0.012079      -0.006070   \n",
       "Turnover               -0.011029   0.009923     0.010700       0.020076   \n",
       "Promotion              -0.037288   0.012353    -0.035605      -0.035799   \n",
       "Dep_IT                 -0.075503  -0.184302    -0.124705      -0.140484   \n",
       "Dep_RandD              -0.059525  -0.145300    -0.098315      -0.110755   \n",
       "Dep_accounting         -0.058723  -0.143341    -0.096989      -0.109262   \n",
       "Dep_hr                 -0.057584  -0.140562    -0.095109      -0.107143   \n",
       "Dep_management         -0.052966  -0.129289    -0.087482      -0.098551   \n",
       "Dep_marketing          -0.062308  -0.152093    -0.102911      -0.115933   \n",
       "Dep_product_mng         1.000000  -0.156187    -0.105682      -0.119054   \n",
       "Dep_sales              -0.156187   1.000000    -0.257967      -0.290608   \n",
       "Dep_support            -0.105682  -0.257967     1.000000      -0.196636   \n",
       "Dep_technical          -0.119054  -0.290608    -0.196636       1.000000   \n",
       "Sal_high               -0.006514  -0.039273    -0.029184      -0.014672   \n",
       "Sal_low                 0.006191   0.023766     0.022038       0.015674   \n",
       "Sal_medium             -0.002632  -0.002174    -0.006035      -0.007673   \n",
       "\n",
       "                 Sal_high   Sal_low  Sal_medium  \n",
       "Satisfaction     0.029708 -0.047415    0.031367  \n",
       "Evaluation      -0.020628  0.005221    0.006191  \n",
       "ProjectCount    -0.008726 -0.002504    0.007377  \n",
       "AvgMonthlyHours -0.007101 -0.001050    0.005007  \n",
       "Tenure           0.039953 -0.040110    0.018299  \n",
       "Work_accident    0.009040 -0.006813    0.001856  \n",
       "Turnover        -0.120929  0.134722   -0.068833  \n",
       "Promotion        0.076756 -0.082832    0.040985  \n",
       "Dep_IT          -0.016089  0.005116    0.003775  \n",
       "Dep_RandD       -0.015115 -0.011887    0.020402  \n",
       "Dep_accounting   0.011821 -0.009759    0.003285  \n",
       "Dep_hr          -0.017858 -0.015690    0.025765  \n",
       "Dep_management   0.209077 -0.084641   -0.030716  \n",
       "Dep_marketing    0.009642 -0.009479    0.004213  \n",
       "Dep_product_mng -0.006514  0.006191   -0.002632  \n",
       "Dep_sales       -0.039273  0.023766   -0.002174  \n",
       "Dep_support     -0.029184  0.022038   -0.006035  \n",
       "Dep_technical   -0.014672  0.015674   -0.007673  \n",
       "Sal_high         1.000000 -0.292560   -0.260274  \n",
       "Sal_low         -0.292560  1.000000   -0.847144  \n",
       "Sal_medium      -0.260274 -0.847144    1.000000  \n",
       "\n",
       "[21 rows x 21 columns]"
      ]
     },
     "execution_count": 86,
     "metadata": {},
     "output_type": "execute_result"
    }
   ],
   "source": [
    "# Recheck correlations to confirm these dummy variables are working\n",
    "corr = df.corr()\n",
    "corr"
   ]
  },
  {
   "cell_type": "markdown",
   "id": "91ff8ebe",
   "metadata": {},
   "source": [
    "# Data Modeling"
   ]
  },
  {
   "cell_type": "code",
   "execution_count": 61,
   "id": "0174dcad",
   "metadata": {},
   "outputs": [],
   "source": [
    "from sklearn.model_selection import train_test_split\n",
    "from sklearn.metrics import accuracy_score, roc_auc_score,classification_report, precision_score, recall_score, confusion_matrix,precision_recall_curve\n",
    "from sklearn.preprocessing import RobustScaler"
   ]
  },
  {
   "cell_type": "code",
   "execution_count": 62,
   "id": "d92b641b",
   "metadata": {},
   "outputs": [],
   "source": [
    "y = df['Turnover']\n",
    "X = df.drop('Turnover',axis = 1)\n",
    "X_train, X_test, y_train, y_test = train_test_split(X,y, test_size = 0.15 , random_state = 123, stratify = y)"
   ]
  },
  {
   "cell_type": "code",
   "execution_count": 69,
   "id": "4c2a928a",
   "metadata": {},
   "outputs": [
    {
     "name": "stdout",
     "output_type": "stream",
     "text": [
      "Accuracy 0.79\n",
      "[[1580  134]\n",
      " [ 343  193]]\n"
     ]
    },
    {
     "name": "stderr",
     "output_type": "stream",
     "text": [
      "/Users/rajeski/opt/anaconda3/lib/python3.8/site-packages/sklearn/linear_model/_logistic.py:763: ConvergenceWarning: lbfgs failed to converge (status=1):\n",
      "STOP: TOTAL NO. of ITERATIONS REACHED LIMIT.\n",
      "\n",
      "Increase the number of iterations (max_iter) or scale the data as shown in:\n",
      "    https://scikit-learn.org/stable/modules/preprocessing.html\n",
      "Please also refer to the documentation for alternative solver options:\n",
      "    https://scikit-learn.org/stable/modules/linear_model.html#logistic-regression\n",
      "  n_iter_i = _check_optimize_result(\n"
     ]
    }
   ],
   "source": [
    "# Logistic Regression\n",
    "\n",
    "from sklearn.linear_model import LogisticRegression\n",
    "model = LogisticRegression(penalty ='l2', C = 1)\n",
    "model.fit(X_train,y_train)\n",
    "print('Accuracy',round(accuracy_score(y_test, model.predict(X_test)),2))\n",
    "print(confusion_matrix(y_test, model.predict(X_test)))"
   ]
  },
  {
   "cell_type": "code",
   "execution_count": 77,
   "id": "8e1abc95",
   "metadata": {},
   "outputs": [
    {
     "name": "stdout",
     "output_type": "stream",
     "text": [
      "\n",
      "\n",
      " Decision Tree Model\n",
      "Decision Tree Accuracy = 0.944\n",
      "Decision Tree AUC = 0.93\n",
      "              precision    recall  f1-score   support\n",
      "\n",
      "           0       0.97      0.96      0.96      1714\n",
      "           1       0.88      0.89      0.88       536\n",
      "\n",
      "    accuracy                           0.94      2250\n",
      "   macro avg       0.92      0.93      0.92      2250\n",
      "weighted avg       0.94      0.94      0.94      2250\n",
      "\n",
      "[[1646   68]\n",
      " [  58  478]]\n"
     ]
    }
   ],
   "source": [
    "# Decision Tree Classifier\n",
    "from sklearn import tree\n",
    "from sklearn.tree import DecisionTreeClassifier\n",
    "dtree = tree.DecisionTreeClassifier(max_depth=3, min_weight_fraction_leaf=0.01)\n",
    "dtree = dtree.fit(X_train,y_train)\n",
    "print ('\\n\\n Decision Tree Model')\n",
    "dt_accuracy = accuracy_score(y_test, dtree.predict(X_test))\n",
    "print('Decision Tree Accuracy =' ,dt_accuracy)\n",
    "dt_roc_auc = roc_auc_score(y_test, dtree.predict(X_test))\n",
    "print ('Decision Tree AUC = %2.2f' % dt_roc_auc)\n",
    "print(classification_report(y_test, dtree.predict(X_test)))\n",
    "print(confusion_matrix(y_test, dtree.predict(X_test)))"
   ]
  },
  {
   "cell_type": "code",
   "execution_count": 79,
   "id": "cd27d504",
   "metadata": {},
   "outputs": [
    {
     "name": "stdout",
     "output_type": "stream",
     "text": [
      "\n",
      "\n",
      " Random Forest Model\n",
      "Accuracy = 0.9862222222222222\n",
      "Random Forest AUC = 0.98\n",
      "              precision    recall  f1-score   support\n",
      "\n",
      "           0       0.99      1.00      0.99      1714\n",
      "           1       0.99      0.96      0.97       536\n",
      "\n",
      "    accuracy                           0.99      2250\n",
      "   macro avg       0.99      0.98      0.98      2250\n",
      "weighted avg       0.99      0.99      0.99      2250\n",
      "\n",
      "[[1707    7]\n",
      " [  24  512]]\n"
     ]
    }
   ],
   "source": [
    "# Random Forest Classifier\n",
    "from sklearn.ensemble import RandomForestClassifier\n",
    "rf = RandomForestClassifier(\n",
    "    n_estimators=1000, \n",
    "    max_depth=None, \n",
    "    min_samples_split=10, \n",
    "    class_weight='balanced'\n",
    "    )\n",
    "rf.fit(X_train, y_train)\n",
    "print ('\\n\\n Random Forest Model')\n",
    "print('Accuracy =', accuracy_score(y_test, rf.predict(X_test)))\n",
    "rf_roc_auc = roc_auc_score(y_test, rf.predict(X_test))\n",
    "print ('Random Forest AUC = %2.2f' % rf_roc_auc)\n",
    "print(classification_report(y_test, rf.predict(X_test)))\n",
    "print(confusion_matrix(y_test, rf.predict(X_test)))"
   ]
  },
  {
   "cell_type": "code",
   "execution_count": 80,
   "id": "3e0918ed",
   "metadata": {},
   "outputs": [
    {
     "name": "stdout",
     "output_type": "stream",
     "text": [
      "\n",
      "\n",
      " AdaBoost Model\n",
      "Accuracy = 0.9506666666666667\n",
      "AdaBoost AUC = 0.93\n",
      "              precision    recall  f1-score   support\n",
      "\n",
      "           0       0.96      0.97      0.97      1714\n",
      "           1       0.91      0.88      0.89       536\n",
      "\n",
      "    accuracy                           0.95      2250\n",
      "   macro avg       0.94      0.93      0.93      2250\n",
      "weighted avg       0.95      0.95      0.95      2250\n",
      "\n"
     ]
    },
    {
     "data": {
      "text/plain": [
       "array([[1667,   47],\n",
       "       [  64,  472]])"
      ]
     },
     "execution_count": 80,
     "metadata": {},
     "output_type": "execute_result"
    }
   ],
   "source": [
    "# Ada Boost Classifier\n",
    "from sklearn.ensemble import AdaBoostClassifier\n",
    "ada = AdaBoostClassifier(n_estimators=400, learning_rate=0.1)\n",
    "ada.fit(X_train,y_train)\n",
    "print ('\\n\\n AdaBoost Model')\n",
    "print('Accuracy =', accuracy_score(y_test,ada.predict(X_test)))\n",
    "ada_roc_auc = roc_auc_score(y_test, ada.predict(X_test))\n",
    "print ('AdaBoost AUC = %2.2f' % ada_roc_auc)\n",
    "print(classification_report(y_test, ada.predict(X_test)))\n",
    "confusion_matrix(y_test, ada.predict(X_test))"
   ]
  },
  {
   "cell_type": "code",
   "execution_count": 88,
   "id": "11c73da4",
   "metadata": {},
   "outputs": [
    {
     "name": "stdout",
     "output_type": "stream",
     "text": [
      "* Accuracy Comparison *\n",
      "Accuracy of AdaBoost Model 0.9506666666666667\n",
      "Accuracy of Decision Tree Model 0.944\n",
      "Accuracy of Logistic Regression Model 0.788\n",
      "Accuracy of Random Forest Model 0.9862222222222222\n"
     ]
    }
   ],
   "source": [
    "print('* Accuracy Comparison *')\n",
    "print('Accuracy of AdaBoost Model', accuracy_score(y_test,ada.predict(X_test)))\n",
    "print('Accuracy of Decision Tree Model', accuracy_score(y_test,dtree.predict(X_test)))\n",
    "print('Accuracy of Logistic Regression Model', accuracy_score(y_test,model.predict(X_test)))\n",
    "print('Accuracy of Random Forest Model', accuracy_score(y_test,rf.predict(X_test)))"
   ]
  },
  {
   "cell_type": "code",
   "execution_count": 82,
   "id": "ad8c9ba3",
   "metadata": {},
   "outputs": [
    {
     "data": {
      "image/png": "[encoded data removed]",
      "text/plain": [
       "<Figure size 432x288 with 1 Axes>"
      ]
     },
     "metadata": {
      "needs_background": "light"
     },
     "output_type": "display_data"
    }
   ],
   "source": [
    "# ROC Graph\n",
    "from sklearn.metrics import roc_curve\n",
    "fpr, tpr, thresholds = roc_curve(y_test, model.predict_proba(X_test)[:,1])\n",
    "rf_fpr, rf_tpr, rf_thresholds = roc_curve(y_test, rf.predict_proba(X_test)[:,1])\n",
    "dt_fpr, dt_tpr, dt_thresholds = roc_curve(y_test, dtree.predict_proba(X_test)[:,1])\n",
    "ada_fpr, ada_tpr, ada_thresholds = roc_curve(y_test, ada.predict_proba(X_test)[:,1])\n",
    "\n",
    "plt.figure()\n",
    "\n",
    "# Plot Logistic Regression ROC\n",
    "plt.plot(fpr, tpr, label='Logistic Regression (area = %0.2f)' % roc_auc_score(y_test, model.predict(X_test)))\n",
    "\n",
    "# Plot Random Forest ROC\n",
    "plt.plot(rf_fpr, rf_tpr, label='Random Forest (area = %0.2f)' % roc_auc_score(y_test, rf.predict(X_test)))\n",
    "\n",
    "# Plot Decision Tree ROC\n",
    "plt.plot(dt_fpr, dt_tpr, label='Decision Tree (area = %0.2f)' % roc_auc_score(y_test, dtree.predict(X_test)))\n",
    "\n",
    "# Plot AdaBoost ROC\n",
    "plt.plot(ada_fpr, ada_tpr, label='AdaBoost (area = %0.2f)' % roc_auc_score(y_test, ada.predict(X_test)))\n",
    "\n",
    "\n",
    "plt.xlim([0.0, 1.0])\n",
    "plt.ylim([0.0, 1.05])\n",
    "plt.xlabel('False Positive Rate')\n",
    "plt.ylabel('True Positive Rate')\n",
    "plt.title('ROC Graph')\n",
    "plt.legend(loc=\"lower right\")\n",
    "plt.show()"
   ]
  },
  {
   "cell_type": "code",
   "execution_count": 83,
   "id": "5b7b703b",
   "metadata": {},
   "outputs": [
    {
     "data": {
      "image/png": "[encoded data removed]",
      "text/plain": [
       "<Figure size 864x432 with 1 Axes>"
      ]
     },
     "metadata": {
      "needs_background": "light"
     },
     "output_type": "display_data"
    }
   ],
   "source": [
    "# Feature Importance\n",
    "\n",
    "plt.rcParams['figure.figsize'] = (12,6)\n",
    "\n",
    "## plot the importances ##\n",
    "importances = dtree.feature_importances_\n",
    "feat_names = df.drop(['Turnover'],axis=1).columns\n",
    "\n",
    "indices = np.argsort(importances)[::-1]\n",
    "plt.figure(figsize=(12,6))\n",
    "plt.title('Feature Importance by Decision Tree Classifier')\n",
    "plt.bar(range(len(indices)), importances[indices], color='lightblue',  align=\"center\")\n",
    "plt.step(range(len(indices)), np.cumsum(importances[indices]), where='mid', label='Cumulative')\n",
    "plt.xticks(range(len(indices)), feat_names[indices], rotation='vertical',fontsize=14)\n",
    "plt.xlim([-1, len(indices)])\n",
    "plt.show()"
   ]
  },
  {
   "cell_type": "markdown",
   "id": "52c72177",
   "metadata": {},
   "source": [
    "Conclusions:\n",
    "\n",
    "Employee Satisfaction, Years At Company, Evaluation are the biggest factors regarding staff turnover.\n",
    "\n",
    "1. Low to medium salaried employees had higher attrition rates. Conversely, higher-salaried employees has lower attrition rates. \n",
    "2. Highest employee turnover (ranked order) Sales, Technical, Support. Conversely, Management lowest employee turnover.\n",
    "3. High employee turnover 2, 6, 7 projects; most employees with 3, 4, 5 projects remained; all employees with 7 projects left the company.\n",
    "4. Low to high performance employees tended to leave the most; employee evaluations between 0.6-0.8 tended to remain at the company. \n",
    "5. Employees with less hours of work (150 hours or less) or (250 hours or more) had higher attrition rates.\n",
    "6. Low satisfaction level employees (0.2 or less) or (0.3~0.5) and high satisfaction level employees (0.7 or more) all left the company at higher rates. \n",
    "7. More than 1/2 of employees with 4 and 5 years tenure left the company.\n",
    "8. An average evaluation of roughly 70% meant an employee was likely to stay (even with difference project counts); the data skews towards a high turnover rate after 3 projects or two projects and a lower employee evaluation; employees with more than 3 projects and higher employee evaluations also had higher attrition rates. \n",
    "9. Using a Random Forest was the most accurate for data modeling purposes."
   ]
  },
  {
   "cell_type": "markdown",
   "id": "3aa43027",
   "metadata": {},
   "source": [
    "Suggestions: \n",
    "\n",
    "Use the Kirkpatrick Evaluation Model as part of conducting a Root-cause Analysis \n",
    "\n",
    "1. Reaction - Conduct a company-wide survey of all employees\n",
    "2. Learning - Based on the survey's results implement on-the-job training aimed at reducing attrition rates\n",
    "3. Behavior - Monitor if desired improvements are being incorporated or if there is still cultural resistance\n",
    "4. Results - Reduced employee turnover; increased employee evaluation scores \n",
    "\n",
    "The above should center on, what are the knowledge, motivation, and organizational solutions to these barriers?\n",
    "\n",
    "Areas to address include: \n",
    "\n",
    "1. Overall attrition-rates\n",
    "2. Sales, Technical and Support turnover rates, i.e., KPI's; Salary; Management; Career Mobility; finding the possible causes / solutions?\n",
    "3. Project-related turnover rates; lack of support; level of difficulties; timelines; again, finding the possible causes / solutions?\n",
    "4. Employee satisfaction; what (if anything) is being done about this? Re-assess management (including Human Resources' policies to find the possible areas where this can be addressed and improved).\n",
    "5. Employee retention, i.e., in the 4 to 5 year-segment means knowledge, motivation, and organizational is being lost (aside from the people who left with such).\n",
    "6. Examining why project count; employee evaluation and attrition are correlated and determining causation."
   ]
  },
  {
   "cell_type": "code",
   "execution_count": null,
   "id": "727e4b70",
   "metadata": {},
   "outputs": [],
   "source": []
  }
 ],
 "metadata": {
  "kernelspec": {
   "display_name": "Python 3",
   "language": "python",
   "name": "python3"
  },
  "language_info": {
   "codemirror_mode": {
    "name": "ipython",
    "version": 3
   },
   "file_extension": ".py",
   "mimetype": "text/x-python",
   "name": "python",
   "nbconvert_exporter": "python",
   "pygments_lexer": "ipython3",
   "version": "3.8.8"
  }
 },
 "nbformat": 4,
 "nbformat_minor": 5
}
